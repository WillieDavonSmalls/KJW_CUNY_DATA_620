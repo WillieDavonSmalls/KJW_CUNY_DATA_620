{
 "cells": [
  {
   "cell_type": "markdown",
   "metadata": {
    "toc": true
   },
   "source": [
    "<h1>Table of Contents<span class=\"tocSkip\"></span></h1>\n",
    "<div class=\"toc\"><ul class=\"toc-item\"><li><ul class=\"toc-item\"><li><span><a href=\"#Introduction\" data-toc-modified-id=\"Introduction-0.1\"><span class=\"toc-item-num\">0.1&nbsp;&nbsp;</span>Introduction</a></span></li></ul></li><li><span><a href=\"#Presentation-Video\" data-toc-modified-id=\"Presentation-Video-1\"><span class=\"toc-item-num\">1&nbsp;&nbsp;</span>Presentation Video</a></span><ul class=\"toc-item\"><li><span><a href=\"#Datasets\" data-toc-modified-id=\"Datasets-1.1\"><span class=\"toc-item-num\">1.1&nbsp;&nbsp;</span>Datasets</a></span></li><li><span><a href=\"#Imports-and-load-data\" data-toc-modified-id=\"Imports-and-load-data-1.2\"><span class=\"toc-item-num\">1.2&nbsp;&nbsp;</span>Imports and load data</a></span></li><li><span><a href=\"#Data-cleaning-and-transformation\" data-toc-modified-id=\"Data-cleaning-and-transformation-1.3\"><span class=\"toc-item-num\">1.3&nbsp;&nbsp;</span>Data cleaning and transformation</a></span></li><li><span><a href=\"#Hypothesis-Test\" data-toc-modified-id=\"Hypothesis-Test-1.4\"><span class=\"toc-item-num\">1.4&nbsp;&nbsp;</span>Hypothesis Test</a></span></li><li><span><a href=\"#Conclusion\" data-toc-modified-id=\"Conclusion-1.5\"><span class=\"toc-item-num\">1.5&nbsp;&nbsp;</span>Conclusion</a></span></li></ul></li></ul></div>"
   ]
  },
  {
   "cell_type": "markdown",
   "metadata": {},
   "source": [
    "### Introduction"
   ]
  },
  {
   "cell_type": "markdown",
   "metadata": {},
   "source": [
    "<I> Description: </I> <br>\n",
    "In this project we will analyze and compare based on centrality measures across a social network comprised of over 6,000 Marvel characters.  The centrality measures used are degree centrality and eigenvector centrality.  Our primary objectives are to assess... <br>\n",
    "1. Are male characters more popular than female characters (popularity will be based on number of connections)? <br>\n",
    "2. Is there a greater prevalence of male characters in Marvel comics?\n",
    "<br>\n",
    "\n",
    "<I> Approach: </I>\n",
    "1. for each node in the dataset calculate degree centrality and eigenvector centrality. <br>\n",
    "2. compute the average degree and eigenvector centrality for each gender <br>\n",
    "3. run t-tests comparing the genders to assess if there is a statistically significant difference for the above objectives\n",
    "\n",
    "\n",
    "<I> Degree Centrality </I>is one of the easiest measures to calculate. The degree centrality of a node is simply its degree—the number of edges it has. The higher the degree, the more central the node is. This can be an effective measure, since many nodes with high degrees also have high centrality by other measures. <br>\n",
    "\n",
    "<I> Eigenvector Centrality </I>is a measure of the influence a node has on a network. If a node is pointed to by many nodes (which also have high eigenvector centrality) then that node will have high eigenvector centrality."
   ]
  },
  {
   "cell_type": "markdown",
   "metadata": {},
   "source": [
    "## Presentation Video"
   ]
  },
  {
   "cell_type": "code",
   "execution_count": 1,
   "metadata": {},
   "outputs": [
    {
     "data": {
      "image/jpeg": "[encoded data removed]",
      "text/html": [
       "\n",
       "        <iframe\n",
       "            width=\"800\"\n",
       "            height=\"300\"\n",
       "            src=\"https://www.youtube.com/embed/2W_ozIt9wHc\"\n",
       "            frameborder=\"0\"\n",
       "            allowfullscreen\n",
       "        ></iframe>\n",
       "        "
      ],
      "text/plain": [
       "<IPython.lib.display.YouTubeVideo at 0x1fdd00d9788>"
      ]
     },
     "execution_count": 1,
     "metadata": {},
     "output_type": "execute_result"
    }
   ],
   "source": [
    "from IPython.lib.display import YouTubeVideo\n",
    "YouTubeVideo('2W_ozIt9wHc', width=800, height=300)"
   ]
  },
  {
   "cell_type": "markdown",
   "metadata": {},
   "source": [
    "Direct YouTube: https://youtu.be/2W_ozIt9wHc"
   ]
  },
  {
   "cell_type": "markdown",
   "metadata": {},
   "source": [
    "### Datasets"
   ]
  },
  {
   "cell_type": "markdown",
   "metadata": {},
   "source": [
    "The datasets used for this analysis are: <br>\n",
    "1. <I>Kaggle’s Marvel Universe Social Network </I> [link to site](https://www.kaggle.com/csanhueza/the-marvel-universe-social-network) This is our primary dataset, providing files of nodes and edges. <br><br>\n",
    "2. <I> Five-Thirty-Eight’s Comic Characters </I> [link to site](https://github.com/fivethirtyeight/data/tree/master/comic-characters).  This dataset was originally used for a story called “Comic Books are Still Made by Men…” and appears to have been derived from the [Marvel Fandom site](https://marvel.fandom.com/wiki/Category:Characters_by_Gender). We use this dataset to identify the agenda of each super hero."
   ]
  },
  {
   "cell_type": "markdown",
   "metadata": {},
   "source": [
    "### Imports and load data"
   ]
  },
  {
   "cell_type": "code",
   "execution_count": 2,
   "metadata": {},
   "outputs": [],
   "source": [
    "import pandas as pd\n",
    "import networkx as nx\n",
    "import matplotlib.pyplot as plt\n",
    "from collections import defaultdict\n",
    "from scipy import stats\n",
    "import math\n",
    "\n",
    "import warnings\n",
    "warnings.filterwarnings('ignore')\n",
    "\n",
    "pd.set_option('Display.max_columns', None)\n",
    "pd.set_option('Display.max_rows', None)"
   ]
  },
  {
   "cell_type": "code",
   "execution_count": 3,
   "metadata": {},
   "outputs": [
    {
     "name": "stdout",
     "output_type": "stream",
     "text": [
      "[WinError 3] The system cannot find the path specified: '/Users/williesmalls/Documents/School/CUNY\\\\ SPS/01\\\\ -\\\\ Courses/00\\\\ -\\\\ Web\\\\ Analytics/KJW_CUNY_DATA_620/KJW_Project1_DS620'\n",
      "C:\\Users\\user\\Documents\\00_Applications_DataScience\\CUNY\\DATA620\\KJW_CUNY_DATA_620\\KJW_Project1_DS620\n"
     ]
    }
   ],
   "source": [
    "%cd /Users/williesmalls/Documents/School/CUNY\\ SPS/01\\ -\\ Courses/00\\ -\\ Web\\ Analytics/KJW_CUNY_DATA_620/KJW_Project1_DS620"
   ]
  },
  {
   "cell_type": "code",
   "execution_count": 4,
   "metadata": {},
   "outputs": [
    {
     "ename": "FileNotFoundError",
     "evalue": "[Errno 2] File hero-network.csv does not exist: 'hero-network.csv'",
     "output_type": "error",
     "traceback": [
      "\u001b[1;31m---------------------------------------------------------------------------\u001b[0m",
      "\u001b[1;31mFileNotFoundError\u001b[0m                         Traceback (most recent call last)",
      "\u001b[1;32m<ipython-input-4-67e4f5ae671f>\u001b[0m in \u001b[0;36m<module>\u001b[1;34m\u001b[0m\n\u001b[0;32m      1\u001b[0m \u001b[1;31m#data load\u001b[0m\u001b[1;33m\u001b[0m\u001b[1;33m\u001b[0m\u001b[1;33m\u001b[0m\u001b[0m\n\u001b[1;32m----> 2\u001b[1;33m \u001b[0mhnetwork_in\u001b[0m \u001b[1;33m=\u001b[0m \u001b[0mpd\u001b[0m\u001b[1;33m.\u001b[0m\u001b[0mread_csv\u001b[0m\u001b[1;33m(\u001b[0m\u001b[1;34m'hero-network.csv'\u001b[0m\u001b[1;33m)\u001b[0m\u001b[1;33m\u001b[0m\u001b[1;33m\u001b[0m\u001b[0m\n\u001b[0m\u001b[0;32m      3\u001b[0m \u001b[0mhgender_in\u001b[0m \u001b[1;33m=\u001b[0m \u001b[0mpd\u001b[0m\u001b[1;33m.\u001b[0m\u001b[0mread_csv\u001b[0m\u001b[1;33m(\u001b[0m\u001b[1;34m'marvel_heroe_with_gender_list.csv'\u001b[0m\u001b[1;33m)\u001b[0m\u001b[1;33m\u001b[0m\u001b[1;33m\u001b[0m\u001b[0m\n",
      "\u001b[1;32m~\\AppData\\Roaming\\Python\\Python37\\site-packages\\pandas\\io\\parsers.py\u001b[0m in \u001b[0;36mparser_f\u001b[1;34m(filepath_or_buffer, sep, delimiter, header, names, index_col, usecols, squeeze, prefix, mangle_dupe_cols, dtype, engine, converters, true_values, false_values, skipinitialspace, skiprows, skipfooter, nrows, na_values, keep_default_na, na_filter, verbose, skip_blank_lines, parse_dates, infer_datetime_format, keep_date_col, date_parser, dayfirst, cache_dates, iterator, chunksize, compression, thousands, decimal, lineterminator, quotechar, quoting, doublequote, escapechar, comment, encoding, dialect, error_bad_lines, warn_bad_lines, delim_whitespace, low_memory, memory_map, float_precision)\u001b[0m\n\u001b[0;32m    674\u001b[0m         )\n\u001b[0;32m    675\u001b[0m \u001b[1;33m\u001b[0m\u001b[0m\n\u001b[1;32m--> 676\u001b[1;33m         \u001b[1;32mreturn\u001b[0m \u001b[0m_read\u001b[0m\u001b[1;33m(\u001b[0m\u001b[0mfilepath_or_buffer\u001b[0m\u001b[1;33m,\u001b[0m \u001b[0mkwds\u001b[0m\u001b[1;33m)\u001b[0m\u001b[1;33m\u001b[0m\u001b[1;33m\u001b[0m\u001b[0m\n\u001b[0m\u001b[0;32m    677\u001b[0m \u001b[1;33m\u001b[0m\u001b[0m\n\u001b[0;32m    678\u001b[0m     \u001b[0mparser_f\u001b[0m\u001b[1;33m.\u001b[0m\u001b[0m__name__\u001b[0m \u001b[1;33m=\u001b[0m \u001b[0mname\u001b[0m\u001b[1;33m\u001b[0m\u001b[1;33m\u001b[0m\u001b[0m\n",
      "\u001b[1;32m~\\AppData\\Roaming\\Python\\Python37\\site-packages\\pandas\\io\\parsers.py\u001b[0m in \u001b[0;36m_read\u001b[1;34m(filepath_or_buffer, kwds)\u001b[0m\n\u001b[0;32m    446\u001b[0m \u001b[1;33m\u001b[0m\u001b[0m\n\u001b[0;32m    447\u001b[0m     \u001b[1;31m# Create the parser.\u001b[0m\u001b[1;33m\u001b[0m\u001b[1;33m\u001b[0m\u001b[1;33m\u001b[0m\u001b[0m\n\u001b[1;32m--> 448\u001b[1;33m     \u001b[0mparser\u001b[0m \u001b[1;33m=\u001b[0m \u001b[0mTextFileReader\u001b[0m\u001b[1;33m(\u001b[0m\u001b[0mfp_or_buf\u001b[0m\u001b[1;33m,\u001b[0m \u001b[1;33m**\u001b[0m\u001b[0mkwds\u001b[0m\u001b[1;33m)\u001b[0m\u001b[1;33m\u001b[0m\u001b[1;33m\u001b[0m\u001b[0m\n\u001b[0m\u001b[0;32m    449\u001b[0m \u001b[1;33m\u001b[0m\u001b[0m\n\u001b[0;32m    450\u001b[0m     \u001b[1;32mif\u001b[0m \u001b[0mchunksize\u001b[0m \u001b[1;32mor\u001b[0m \u001b[0miterator\u001b[0m\u001b[1;33m:\u001b[0m\u001b[1;33m\u001b[0m\u001b[1;33m\u001b[0m\u001b[0m\n",
      "\u001b[1;32m~\\AppData\\Roaming\\Python\\Python37\\site-packages\\pandas\\io\\parsers.py\u001b[0m in \u001b[0;36m__init__\u001b[1;34m(self, f, engine, **kwds)\u001b[0m\n\u001b[0;32m    878\u001b[0m             \u001b[0mself\u001b[0m\u001b[1;33m.\u001b[0m\u001b[0moptions\u001b[0m\u001b[1;33m[\u001b[0m\u001b[1;34m\"has_index_names\"\u001b[0m\u001b[1;33m]\u001b[0m \u001b[1;33m=\u001b[0m \u001b[0mkwds\u001b[0m\u001b[1;33m[\u001b[0m\u001b[1;34m\"has_index_names\"\u001b[0m\u001b[1;33m]\u001b[0m\u001b[1;33m\u001b[0m\u001b[1;33m\u001b[0m\u001b[0m\n\u001b[0;32m    879\u001b[0m \u001b[1;33m\u001b[0m\u001b[0m\n\u001b[1;32m--> 880\u001b[1;33m         \u001b[0mself\u001b[0m\u001b[1;33m.\u001b[0m\u001b[0m_make_engine\u001b[0m\u001b[1;33m(\u001b[0m\u001b[0mself\u001b[0m\u001b[1;33m.\u001b[0m\u001b[0mengine\u001b[0m\u001b[1;33m)\u001b[0m\u001b[1;33m\u001b[0m\u001b[1;33m\u001b[0m\u001b[0m\n\u001b[0m\u001b[0;32m    881\u001b[0m \u001b[1;33m\u001b[0m\u001b[0m\n\u001b[0;32m    882\u001b[0m     \u001b[1;32mdef\u001b[0m \u001b[0mclose\u001b[0m\u001b[1;33m(\u001b[0m\u001b[0mself\u001b[0m\u001b[1;33m)\u001b[0m\u001b[1;33m:\u001b[0m\u001b[1;33m\u001b[0m\u001b[1;33m\u001b[0m\u001b[0m\n",
      "\u001b[1;32m~\\AppData\\Roaming\\Python\\Python37\\site-packages\\pandas\\io\\parsers.py\u001b[0m in \u001b[0;36m_make_engine\u001b[1;34m(self, engine)\u001b[0m\n\u001b[0;32m   1112\u001b[0m     \u001b[1;32mdef\u001b[0m \u001b[0m_make_engine\u001b[0m\u001b[1;33m(\u001b[0m\u001b[0mself\u001b[0m\u001b[1;33m,\u001b[0m \u001b[0mengine\u001b[0m\u001b[1;33m=\u001b[0m\u001b[1;34m\"c\"\u001b[0m\u001b[1;33m)\u001b[0m\u001b[1;33m:\u001b[0m\u001b[1;33m\u001b[0m\u001b[1;33m\u001b[0m\u001b[0m\n\u001b[0;32m   1113\u001b[0m         \u001b[1;32mif\u001b[0m \u001b[0mengine\u001b[0m \u001b[1;33m==\u001b[0m \u001b[1;34m\"c\"\u001b[0m\u001b[1;33m:\u001b[0m\u001b[1;33m\u001b[0m\u001b[1;33m\u001b[0m\u001b[0m\n\u001b[1;32m-> 1114\u001b[1;33m             \u001b[0mself\u001b[0m\u001b[1;33m.\u001b[0m\u001b[0m_engine\u001b[0m \u001b[1;33m=\u001b[0m \u001b[0mCParserWrapper\u001b[0m\u001b[1;33m(\u001b[0m\u001b[0mself\u001b[0m\u001b[1;33m.\u001b[0m\u001b[0mf\u001b[0m\u001b[1;33m,\u001b[0m \u001b[1;33m**\u001b[0m\u001b[0mself\u001b[0m\u001b[1;33m.\u001b[0m\u001b[0moptions\u001b[0m\u001b[1;33m)\u001b[0m\u001b[1;33m\u001b[0m\u001b[1;33m\u001b[0m\u001b[0m\n\u001b[0m\u001b[0;32m   1115\u001b[0m         \u001b[1;32melse\u001b[0m\u001b[1;33m:\u001b[0m\u001b[1;33m\u001b[0m\u001b[1;33m\u001b[0m\u001b[0m\n\u001b[0;32m   1116\u001b[0m             \u001b[1;32mif\u001b[0m \u001b[0mengine\u001b[0m \u001b[1;33m==\u001b[0m \u001b[1;34m\"python\"\u001b[0m\u001b[1;33m:\u001b[0m\u001b[1;33m\u001b[0m\u001b[1;33m\u001b[0m\u001b[0m\n",
      "\u001b[1;32m~\\AppData\\Roaming\\Python\\Python37\\site-packages\\pandas\\io\\parsers.py\u001b[0m in \u001b[0;36m__init__\u001b[1;34m(self, src, **kwds)\u001b[0m\n\u001b[0;32m   1889\u001b[0m         \u001b[0mkwds\u001b[0m\u001b[1;33m[\u001b[0m\u001b[1;34m\"usecols\"\u001b[0m\u001b[1;33m]\u001b[0m \u001b[1;33m=\u001b[0m \u001b[0mself\u001b[0m\u001b[1;33m.\u001b[0m\u001b[0musecols\u001b[0m\u001b[1;33m\u001b[0m\u001b[1;33m\u001b[0m\u001b[0m\n\u001b[0;32m   1890\u001b[0m \u001b[1;33m\u001b[0m\u001b[0m\n\u001b[1;32m-> 1891\u001b[1;33m         \u001b[0mself\u001b[0m\u001b[1;33m.\u001b[0m\u001b[0m_reader\u001b[0m \u001b[1;33m=\u001b[0m \u001b[0mparsers\u001b[0m\u001b[1;33m.\u001b[0m\u001b[0mTextReader\u001b[0m\u001b[1;33m(\u001b[0m\u001b[0msrc\u001b[0m\u001b[1;33m,\u001b[0m \u001b[1;33m**\u001b[0m\u001b[0mkwds\u001b[0m\u001b[1;33m)\u001b[0m\u001b[1;33m\u001b[0m\u001b[1;33m\u001b[0m\u001b[0m\n\u001b[0m\u001b[0;32m   1892\u001b[0m         \u001b[0mself\u001b[0m\u001b[1;33m.\u001b[0m\u001b[0munnamed_cols\u001b[0m \u001b[1;33m=\u001b[0m \u001b[0mself\u001b[0m\u001b[1;33m.\u001b[0m\u001b[0m_reader\u001b[0m\u001b[1;33m.\u001b[0m\u001b[0munnamed_cols\u001b[0m\u001b[1;33m\u001b[0m\u001b[1;33m\u001b[0m\u001b[0m\n\u001b[0;32m   1893\u001b[0m \u001b[1;33m\u001b[0m\u001b[0m\n",
      "\u001b[1;32mpandas\\_libs\\parsers.pyx\u001b[0m in \u001b[0;36mpandas._libs.parsers.TextReader.__cinit__\u001b[1;34m()\u001b[0m\n",
      "\u001b[1;32mpandas\\_libs\\parsers.pyx\u001b[0m in \u001b[0;36mpandas._libs.parsers.TextReader._setup_parser_source\u001b[1;34m()\u001b[0m\n",
      "\u001b[1;31mFileNotFoundError\u001b[0m: [Errno 2] File hero-network.csv does not exist: 'hero-network.csv'"
     ]
    }
   ],
   "source": [
    "#data load\n",
    "hnetwork_in = pd.read_csv('hero-network.csv')\n",
    "hgender_in = pd.read_csv('marvel_heroe_with_gender_list.csv')"
   ]
  },
  {
   "cell_type": "code",
   "execution_count": null,
   "metadata": {},
   "outputs": [],
   "source": [
    "#review top 5 \n",
    "hnetwork_in.head(3)"
   ]
  },
  {
   "cell_type": "code",
   "execution_count": null,
   "metadata": {},
   "outputs": [],
   "source": [
    "hnetwork_in.tail(3)"
   ]
  },
  {
   "cell_type": "code",
   "execution_count": null,
   "metadata": {},
   "outputs": [],
   "source": [
    "hgender_in.head(3)"
   ]
  },
  {
   "cell_type": "code",
   "execution_count": null,
   "metadata": {},
   "outputs": [],
   "source": [
    "hgender_in.tail(3)"
   ]
  },
  {
   "cell_type": "markdown",
   "metadata": {},
   "source": [
    "### Data cleaning and transformation"
   ]
  },
  {
   "cell_type": "code",
   "execution_count": null,
   "metadata": {},
   "outputs": [],
   "source": [
    "#Create a dictionary keyed by hero name and value is gender.  This dictionary is used in the next step to\n",
    "#help create a dataframe of each hero's name and gender, with a unique hero id.\n",
    "gender_dict = defaultdict(list)\n",
    "\n",
    "for r in hgender_in.values:\n",
    "    key = r[0]\n",
    "    gender_dict[key] = r[2]"
   ]
  },
  {
   "cell_type": "code",
   "execution_count": null,
   "metadata": {},
   "outputs": [],
   "source": [
    "#This step will create a dataframe that lists each superhero and assigns a unique id to each.  The heroe's gender will also be \n",
    "#a column in the dataframe. The id's will serve as node ids for the graph. \n",
    "\n",
    "#combine the hero1 and hero2 columns into one set of unique hero names\n",
    "hero1_list = hnetwork_in['hero1'].tolist()\n",
    "hero2_list = hnetwork_in['hero2'].tolist()\n",
    "\n",
    "all_heroes_list = hero1_list + hero2_list\n",
    "\n",
    "#use set to remove duplicates\n",
    "hnetwork_set = set(all_heroes_list)  \n",
    "hnetwork_list = list(hnetwork_set)\n",
    "\n",
    "#use dataframe to generate a unique id for each name\n",
    "hnetwork_df = pd.DataFrame()    \n",
    "hnetwork_df['hero_name'] = hnetwork_list\n",
    "hnetwork_df.index.name = 'hero_id'\n",
    "hnetwork_df = hnetwork_df.reset_index()\n",
    "\n",
    "#loop thru the dataframe and get the heroes gender from the gender dictionary\n",
    "hero_gender_list = []\n",
    "for r in hnetwork_df.values:\n",
    "    hero_gender = gender_dict.get(r[1])\n",
    "    hero_gender_list.append(hero_gender)\n",
    "\n",
    "hnetwork_df['hero_gender'] = hero_gender_list\n",
    "\n",
    "hnetwork_df.head(3)"
   ]
  },
  {
   "cell_type": "code",
   "execution_count": null,
   "metadata": {},
   "outputs": [],
   "source": [
    "hnetwork_df.tail(3)"
   ]
  },
  {
   "cell_type": "code",
   "execution_count": null,
   "metadata": {},
   "outputs": [],
   "source": [
    "#create a hero id's dictionary keyed by name with id as value.  This dictionary will be used to the next step to add hero1_nodeId's\n",
    "#hero2_nodeids to hero network dataframe.\n",
    "hero_ids_dict = defaultdict(list)\n",
    "\n",
    "for r in hnetwork_df.values:\n",
    "    key = r[1]\n",
    "    hero_ids_dict[key] = r[0]"
   ]
  },
  {
   "cell_type": "code",
   "execution_count": null,
   "metadata": {},
   "outputs": [],
   "source": [
    "#loop thru the hnetwork_in dataframe and create two additional columns (hero1_id, hero2_id).  These id's \n",
    "#will be used as the node id's for the graph and centrality calculations.\n",
    "hero_network_df = hnetwork_in\n",
    "\n",
    "hero1_id_list = []\n",
    "hero2_id_list = []\n",
    "\n",
    "for r in hnetwork_in.values:\n",
    "    #use the hero ids dictionary\n",
    "    hero1_id = hero_ids_dict.get(r[0])\n",
    "    hero1_id_list.append(hero1_id)\n",
    "    \n",
    "    hero2_id = hero_ids_dict.get(r[1])\n",
    "    hero2_id_list.append(hero2_id)\n",
    "    \n",
    "hero_network_df['hero1_nodeid'] = hero1_id_list\n",
    "hero_network_df['hero2_nodeid'] = hero2_id_list\n",
    "\n",
    "print('This is a dataframe of the hero network by hero name and by hero node id...')\n",
    "hero_network_df.head(3)"
   ]
  },
  {
   "cell_type": "code",
   "execution_count": null,
   "metadata": {},
   "outputs": [],
   "source": [
    "hero_network_df.tail(3)"
   ]
  },
  {
   "cell_type": "code",
   "execution_count": null,
   "metadata": {},
   "outputs": [],
   "source": [
    "# Load the data from the hero_network_df to a graph\n",
    "g1 = nx.Graph()\n",
    "\n",
    "# Add nodes\n",
    "node_ids_list = hnetwork_df.hero_id.tolist()\n",
    "g1.add_nodes_from(node_ids_list)\n",
    "\n",
    "# Add edges\n",
    "edges_list = list(zip(hero_network_df.hero1_nodeid.tolist(), hero_network_df.hero2_nodeid.tolist()))\n",
    "g1.add_edges_from(edges_list)"
   ]
  },
  {
   "cell_type": "code",
   "execution_count": null,
   "metadata": {},
   "outputs": [],
   "source": [
    "#Calculate degree centrality for each node and then add it to the hero network dataframe\n",
    "heroes_degree_centrality = nx.degree_centrality(g1)\n",
    "\n",
    "hnetwork_df['hero_degree_centrality'] = list(heroes_degree_centrality.values())"
   ]
  },
  {
   "cell_type": "code",
   "execution_count": null,
   "metadata": {},
   "outputs": [],
   "source": [
    "#Calculate eigenvector centrality for each node and then add it to the hero network dataframe\n",
    "heroes_eigenvector_centrality = nx.eigenvector_centrality(g1)\n",
    "\n",
    "hnetwork_df['hero_eigenvector_centrality'] = list(heroes_eigenvector_centrality.values())"
   ]
  },
  {
   "cell_type": "code",
   "execution_count": null,
   "metadata": {},
   "outputs": [],
   "source": [
    "#Write dataframe to a csv file\n",
    "hnetwork_df.to_csv('heroes_network_with_centrality.csv')"
   ]
  },
  {
   "cell_type": "code",
   "execution_count": null,
   "metadata": {},
   "outputs": [],
   "source": [
    "hnetwork_df.sort_values(['hero_degree_centrality'], ascending = False).head(10)\n",
    "print('Top 10 ')"
   ]
  },
  {
   "cell_type": "code",
   "execution_count": null,
   "metadata": {},
   "outputs": [],
   "source": [
    "#Create a dataframe of male heroes\n",
    "hnetwork_males_df = hnetwork_df[hnetwork_df.hero_gender == 'Male']\n",
    "hnetwork_males_df = hnetwork_males_df.sort_values(['hero_eigenvector_centrality'], ascending = False) \n",
    "\n",
    "print('Males with highest eigenvector scores')\n",
    "hnetwork_males_df.head(20)"
   ]
  },
  {
   "cell_type": "code",
   "execution_count": null,
   "metadata": {},
   "outputs": [],
   "source": [
    "#Create a dataframe of female heroes\n",
    "hnetwork_females_df = hnetwork_df[hnetwork_df.hero_gender == 'Female']\n",
    "hnetwork_females_df = hnetwork_females_df.sort_values(['hero_eigenvector_centrality'], ascending = False)\n",
    "\n",
    "print('Females with highest eigenvector scores')\n",
    "hnetwork_females_df.head(20)"
   ]
  },
  {
   "cell_type": "markdown",
   "metadata": {},
   "source": [
    "### Hypothesis Test"
   ]
  },
  {
   "cell_type": "code",
   "execution_count": null,
   "metadata": {},
   "outputs": [],
   "source": [
    "#The male and female count reveals (not surprisingly) that the male:female super hero count is skewed toward males\n",
    "#by almost 3:1.\n",
    "male_N = len(hnetwork_males_df.index)\n",
    "female_N = len(hnetwork_females_df.index)\n",
    "\n",
    "print('Gender counts are...')\n",
    "print(f'male heroes: {male_N}')\n",
    "print(f'female heroes: {female_N}')\n",
    "\n",
    "missing_gender = len(hnetwork_df) - female_N - male_N\n",
    "print(f'missing gender: {missing_gender}')"
   ]
  },
  {
   "cell_type": "code",
   "execution_count": null,
   "metadata": {},
   "outputs": [],
   "source": [
    "#We'll respond to question #1 via a t-test.\n",
    "\n",
    "#Hypothesis\n",
    "#H0: male average eigenvector centrality = female average eigenvector centrality\n",
    "#H1: male average eigenvector centrality != female average eigenvector centrality\n",
    "\n",
    "#Data\n",
    "male_mean = hnetwork_males_df.hero_eigenvector_centrality.mean()\n",
    "male_std = hnetwork_males_df.hero_eigenvector_centrality.std()\n",
    "\n",
    "female_mean = hnetwork_females_df.hero_eigenvector_centrality.mean()\n",
    "female_std = hnetwork_females_df.hero_eigenvector_centrality.std()\n",
    "\n",
    "print(f'male sample size is: {male_N}')\n",
    "print(f'male mean is: {male_mean}')\n",
    "print(f'male std is: {male_std}')\n",
    "print()\n",
    "print(f'female sample size is: {female_N}')\n",
    "print(f'female mean is: {female_mean}')\n",
    "print(f'female std is: {female_std}')"
   ]
  },
  {
   "cell_type": "code",
   "execution_count": null,
   "metadata": {},
   "outputs": [],
   "source": [
    "#Run the t-test\n",
    "def tcdf(value, df):\n",
    "    tcdf_value = stats.t.cdf(value, df)\n",
    "    return tcdf_value\n",
    "\n",
    "def t_independent_samples_H(N1, N2, u1, u2, o1, o2):\n",
    "    #the mean and std are so small that the t-value calc below errored on \"divide by zero\", so multiplying all values by 1000\n",
    "    u1 = u1 * 1000\n",
    "    u2 = u2 * 1000\n",
    "    o1 = o1 * 1000\n",
    "    o2 = o2 * 1000\n",
    "    \n",
    "    if N1 > N2:\n",
    "        df = N1 - 1\n",
    "    else:\n",
    "        df = N2 - 1\n",
    "\n",
    "    temp1 = o1**2/N1\n",
    "    temp2 = o2**2/N2\n",
    "    SE = round(math.sqrt(temp1 + temp2),3)\n",
    "    \n",
    "    tvalue = (u1 - u2)/SE\n",
    "\n",
    "    pvalue = (1 - (tcdf(tvalue, df))) * 2\n",
    "    pvalue = round(pvalue, 4)\n",
    "\n",
    "    return (SE, tvalue, pvalue)\n",
    "\n",
    "answer = t_independent_samples_H(male_N, female_N, male_mean, female_mean, male_std, female_std) #(N1, N2, u1, u2, o1, o2)\n",
    "print(f'The SE, t-value, and pvalues are {answer}.')\n",
    "print('Since the pvalue > 0.05, we cannot reject the null hypothesis.  Male eigenvector centrality does not appear to be significantly different than that of females')"
   ]
  },
  {
   "cell_type": "markdown",
   "metadata": {},
   "source": [
    "### Conclusion"
   ]
  },
  {
   "cell_type": "markdown",
   "metadata": {},
   "source": [
    "You'll recall in the introduction we had two questions we'd like to analyze... <br>\n",
    "1. <I> Are male characters more popular than female characters (popularity will be based on number of connections)? </I> <br>\n",
    "Per the above hypothesis test we conclude that male eigenvector centrality is not significantly different than female eigenvector centrality. <br> <br>\n",
    "\n",
    "2. <I> Is there a greater prevalence of male characters in Marvel comics? </I> <br>\n",
    "Given the above ratio of around 4,500 males and 1,600 females, the male to female ratio is almost 3:1.  Based on this we conclude that there is a greater prevalence of male characters Marvel comics."
   ]
  },
  {
   "cell_type": "code",
   "execution_count": null,
   "metadata": {},
   "outputs": [],
   "source": []
  }
 ],
 "metadata": {
  "kernelspec": {
   "display_name": "Python 3",
   "language": "python",
   "name": "python3"
  },
  "language_info": {
   "codemirror_mode": {
    "name": "ipython",
    "version": 3
   },
   "file_extension": ".py",
   "mimetype": "text/x-python",
   "name": "python",
   "nbconvert_exporter": "python",
   "pygments_lexer": "ipython3",
   "version": "3.7.4"
  },
  "toc": {
   "base_numbering": 1,
   "nav_menu": {},
   "number_sections": true,
   "sideBar": true,
   "skip_h1_title": false,
   "title_cell": "Table of Contents",
   "title_sidebar": "Contents",
   "toc_cell": true,
   "toc_position": {},
   "toc_section_display": true,
   "toc_window_display": false
  }
 },
 "nbformat": 4,
 "nbformat_minor": 2
}
