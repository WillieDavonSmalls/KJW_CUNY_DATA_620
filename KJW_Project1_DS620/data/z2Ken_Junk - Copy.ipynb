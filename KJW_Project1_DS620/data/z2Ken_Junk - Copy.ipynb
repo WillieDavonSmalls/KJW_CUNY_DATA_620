{
 "cells": [
  {
   "cell_type": "markdown",
   "metadata": {
    "toc": true
   },
   "source": [
    "<h1>Table of Contents<span class=\"tocSkip\"></span></h1>\n",
    "<div class=\"toc\"><ul class=\"toc-item\"></ul></div>"
   ]
  },
  {
   "cell_type": "code",
   "execution_count": 77,
   "metadata": {},
   "outputs": [],
   "source": [
    "import pandas as pd\n",
    "from fuzzywuzzy import process\n",
    "\n",
    "from collections import defaultdict\n",
    "import warnings\n",
    "warnings.filterwarnings('ignore')\n",
    "\n",
    "pd.set_option('display.max_columns', None)\n",
    "pd.set_option('display.max_rows', None)\n",
    "#%cd /Users/williesmalls/Documents/School/CUNY\\ SPS/01\\ -\\ Courses/00\\ -\\ Web\\ Analytics/Data\\ Play/project\\ 1 "
   ]
  },
  {
   "cell_type": "code",
   "execution_count": 78,
   "metadata": {},
   "outputs": [],
   "source": [
    "#Load data\n",
    "df_hero_network = pd.read_csv('hero-network.csv')\n",
    "df_marvel_characters = pd.read_csv('marvel-wikia-data.csv')"
   ]
  },
  {
   "cell_type": "code",
   "execution_count": 79,
   "metadata": {},
   "outputs": [],
   "source": [
    "#Create a dictionary keyed by marvel character name with gender as the values\n",
    "df_name_gender = df_marvel_characters[['name','SEX']]\n",
    "\n",
    "dict_name_gender = defaultdict(list)\n",
    "for i, r in enumerate(df_name_gender.values):\n",
    "    key = r[0]\n",
    "    dict_name_gender[key].append(r[1])"
   ]
  },
  {
   "cell_type": "code",
   "execution_count": null,
   "metadata": {},
   "outputs": [],
   "source": []
  },
  {
   "cell_type": "code",
   "execution_count": 80,
   "metadata": {},
   "outputs": [
    {
     "name": "stdout",
     "output_type": "stream",
     "text": [
      "Male Characters\n"
     ]
    }
   ],
   "source": [
    "junk = dict_name_gender.get('Caliban (Earth-616)')\n",
    "print(junk[0])"
   ]
  },
  {
   "cell_type": "code",
   "execution_count": 81,
   "metadata": {},
   "outputs": [],
   "source": [
    "#Get the Gender\n",
    "def gender_lookup(hero_name):\n",
    "    gender = dict_name_gender.get(hero_name[1][0])\n",
    "    gender = str(gender[0]).replace(' Characters','')\n",
    "    return gender"
   ]
  },
  {
   "cell_type": "code",
   "execution_count": null,
   "metadata": {},
   "outputs": [],
   "source": []
  },
  {
   "cell_type": "code",
   "execution_count": 82,
   "metadata": {},
   "outputs": [
    {
     "name": "stdout",
     "output_type": "stream",
     "text": [
      "['CALIBAN/', ('Caliban (Earth-616)', 90)]\n",
      "['AGGAMON', ('Aggamon (Earth-616)', 90)]\n",
      "['SMASHER III', ('Smasher III (Earth-616)', 90)]\n"
     ]
    }
   ],
   "source": [
    "#Concatenate the two hero columns in the hero-network file.  Then find the best matching name in the marvel-wikia-data file.\n",
    "#Use the best matching name to search the dictionary to get the gender.\n",
    "lst_heroes = list(set(df_hero_network['hero1'].tolist() + df_hero_network['hero2'].tolist()))\n",
    "lst_marvel_chars = list(df_marvel_characters['name'])\n",
    "\n",
    "list_heroes_names= []\n",
    "list_heroes_gender = []\n",
    "for i in lst_heroes[0:3]: \n",
    "    heroe_lookup = []\n",
    "    heroe_lookup = [i, process.extractOne(i, lst_marvel_chars)]\n",
    "    list_heroes_names.append(heroe_lookup)\n",
    "    print(heroe_lookup)\n",
    "    \n",
    "    gender = gender_lookup(heroe_lookup)\n",
    "    list_heroes_gender.append(gender)\n",
    "    \n",
    "df_list_heroes_names = pd.DataFrame(list_heroes_names, columns = ['Hero', 'Name'])\n",
    "df_list_heroes_names['Gender'] = list_heroes_gender\n",
    "\n",
    "#df_list_heroes_names.to_csv('marvel_heroe_list.csv', index=False)"
   ]
  },
  {
   "cell_type": "code",
   "execution_count": 83,
   "metadata": {},
   "outputs": [
    {
     "data": {
      "text/html": [
       "<div>\n",
       "<style scoped>\n",
       "    .dataframe tbody tr th:only-of-type {\n",
       "        vertical-align: middle;\n",
       "    }\n",
       "\n",
       "    .dataframe tbody tr th {\n",
       "        vertical-align: top;\n",
       "    }\n",
       "\n",
       "    .dataframe thead th {\n",
       "        text-align: right;\n",
       "    }\n",
       "</style>\n",
       "<table border=\"1\" class=\"dataframe\">\n",
       "  <thead>\n",
       "    <tr style=\"text-align: right;\">\n",
       "      <th></th>\n",
       "      <th>Hero</th>\n",
       "      <th>Name</th>\n",
       "      <th>Gender</th>\n",
       "    </tr>\n",
       "  </thead>\n",
       "  <tbody>\n",
       "    <tr>\n",
       "      <td>0</td>\n",
       "      <td>CALIBAN/</td>\n",
       "      <td>(Caliban (Earth-616), 90)</td>\n",
       "      <td>Male</td>\n",
       "    </tr>\n",
       "    <tr>\n",
       "      <td>1</td>\n",
       "      <td>AGGAMON</td>\n",
       "      <td>(Aggamon (Earth-616), 90)</td>\n",
       "      <td>Male</td>\n",
       "    </tr>\n",
       "    <tr>\n",
       "      <td>2</td>\n",
       "      <td>SMASHER III</td>\n",
       "      <td>(Smasher III (Earth-616), 90)</td>\n",
       "      <td>Male</td>\n",
       "    </tr>\n",
       "  </tbody>\n",
       "</table>\n",
       "</div>"
      ],
      "text/plain": [
       "          Hero                           Name Gender\n",
       "0     CALIBAN/      (Caliban (Earth-616), 90)   Male\n",
       "1      AGGAMON      (Aggamon (Earth-616), 90)   Male\n",
       "2  SMASHER III  (Smasher III (Earth-616), 90)   Male"
      ]
     },
     "execution_count": 83,
     "metadata": {},
     "output_type": "execute_result"
    }
   ],
   "source": [
    "df_list_heroes_names"
   ]
  },
  {
   "cell_type": "code",
   "execution_count": null,
   "metadata": {},
   "outputs": [],
   "source": []
  }
 ],
 "metadata": {
  "kernelspec": {
   "display_name": "Python 3",
   "language": "python",
   "name": "python3"
  },
  "language_info": {
   "codemirror_mode": {
    "name": "ipython",
    "version": 3
   },
   "file_extension": ".py",
   "mimetype": "text/x-python",
   "name": "python",
   "nbconvert_exporter": "python",
   "pygments_lexer": "ipython3",
   "version": "3.7.4"
  },
  "toc": {
   "base_numbering": 1,
   "nav_menu": {},
   "number_sections": true,
   "sideBar": true,
   "skip_h1_title": false,
   "title_cell": "Table of Contents",
   "title_sidebar": "Contents",
   "toc_cell": true,
   "toc_position": {},
   "toc_section_display": true,
   "toc_window_display": false
  }
 },
 "nbformat": 4,
 "nbformat_minor": 4
}
