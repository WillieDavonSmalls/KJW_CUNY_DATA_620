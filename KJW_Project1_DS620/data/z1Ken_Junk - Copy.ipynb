{
 "cells": [
  {
   "cell_type": "markdown",
   "metadata": {
    "toc": true
   },
   "source": [
    "<h1>Table of Contents<span class=\"tocSkip\"></span></h1>\n",
    "<div class=\"toc\"><ul class=\"toc-item\"></ul></div>"
   ]
  },
  {
   "cell_type": "code",
   "execution_count": 88,
   "metadata": {},
   "outputs": [],
   "source": [
    "import pandas as pd\n",
    "from fuzzywuzzy import process\n",
    "#%cd /Users/williesmalls/Documents/School/CUNY\\ SPS/01\\ -\\ Courses/00\\ -\\ Web\\ Analytics/Data\\ Play/project\\ 1 "
   ]
  },
  {
   "cell_type": "code",
   "execution_count": 89,
   "metadata": {},
   "outputs": [],
   "source": [
    "#Get the Gender\n",
    "def gender_lookup(hero_name):\n",
    "    return hero_name"
   ]
  },
  {
   "cell_type": "code",
   "execution_count": 90,
   "metadata": {},
   "outputs": [],
   "source": [
    "#Concatenate the two hero columns in the hero-network file.  Then find the best matching name in the marvel-wikia-data file.\n",
    "#Use the best matching name to get the gender.\n",
    "\n",
    "df_hero_network = pd.read_csv('hero-network.csv')\n",
    "df_marvel_characters = pd.read_csv('marvel-wikia-data.csv')\n",
    "\n",
    "df_name_gender = df_marvel_characters[['name','SEX']]\n",
    "lst_name_gender = df_name_gender.values\n",
    "\n",
    "lst_heroes = list(set(df_hero_network['hero1'].tolist() + df_hero_network['hero2'].tolist()))\n",
    "lst_marvel_chars = list(df_marvel_characters['name'])\n",
    "\n",
    "list_heroes_names= []\n",
    "list_heroes_gender = []\n",
    "for i in lst_heroes[0:1]: \n",
    "    heroe_lookup = []\n",
    "    heroe_lookup = [i, process.extractOne(i, lst_marvel_chars)]\n",
    "    list_heroes_names.append(heroe_lookup)\n",
    "    \n",
    "    gender = gender_lookup(heroe_lookup[1][0])\n",
    "    list_heroes_gender.append(gender)\n",
    "\n",
    "df_list_heroes_names = pd.DataFrame(list_heroes_names, columns = ['Hero', 'Name'])\n",
    "df_list_heroes_names['gender'] = list_heroes_gender\n",
    "\n",
    "#df_list_heroes_names.to_csv('marvel_heroe_list.csv', index=False)"
   ]
  },
  {
   "cell_type": "code",
   "execution_count": 92,
   "metadata": {},
   "outputs": [
    {
     "data": {
      "text/plain": [
       "array([['Spider-Man (Peter Parker)', 'Male Characters'],\n",
       "       ['Captain America (Steven Rogers)', 'Male Characters'],\n",
       "       ['Wolverine (James \\\\\"Logan\\\\\" Howlett)', 'Male Characters'],\n",
       "       ...,\n",
       "       ['Tinkerer (Skrull) (Earth-616)', 'Male Characters'],\n",
       "       ['TK421 (Spiderling) (Earth-616)', 'Male Characters'],\n",
       "       ['Yologarch (Earth-616)', nan]], dtype=object)"
      ]
     },
     "execution_count": 92,
     "metadata": {},
     "output_type": "execute_result"
    }
   ],
   "source": [
    "lst_name_gender"
   ]
  },
  {
   "cell_type": "code",
   "execution_count": null,
   "metadata": {},
   "outputs": [],
   "source": []
  }
 ],
 "metadata": {
  "kernelspec": {
   "display_name": "Python 3",
   "language": "python",
   "name": "python3"
  },
  "language_info": {
   "codemirror_mode": {
    "name": "ipython",
    "version": 3
   },
   "file_extension": ".py",
   "mimetype": "text/x-python",
   "name": "python",
   "nbconvert_exporter": "python",
   "pygments_lexer": "ipython3",
   "version": "3.7.4"
  },
  "toc": {
   "base_numbering": 1,
   "nav_menu": {},
   "number_sections": true,
   "sideBar": true,
   "skip_h1_title": false,
   "title_cell": "Table of Contents",
   "title_sidebar": "Contents",
   "toc_cell": true,
   "toc_position": {},
   "toc_section_display": true,
   "toc_window_display": false
  }
 },
 "nbformat": 4,
 "nbformat_minor": 4
}
