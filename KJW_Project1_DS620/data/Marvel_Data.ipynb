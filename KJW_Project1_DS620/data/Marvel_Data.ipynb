{
 "cells": [
  {
   "cell_type": "code",
   "execution_count": 2,
   "metadata": {},
   "outputs": [],
   "source": [
    "import pandas as pd\n",
    "from fuzzywuzzy import process\n",
    "#%cd /Users/williesmalls/Documents/School/CUNY\\ SPS/01\\ -\\ Courses/00\\ -\\ Web\\ Analytics/Data\\ Play/project\\ 1 "
   ]
  },
  {
   "cell_type": "code",
   "execution_count": 8,
   "metadata": {},
   "outputs": [],
   "source": [
    "df_hero_network = pd.read_csv('hero-network.csv')\n",
    "df_marvel_characters = pd.read_csv('marvel-wikia-data.csv')\n",
    "\n",
    "lst_heroes = list(set(df_hero_network['hero1'].tolist() + df_hero_network['hero2'].tolist()))\n",
    "lst_marvel_chars = list(df_marvel_characters['name'])\n",
    "\n",
    "list_heroes_names= []\n",
    "for i in lst_heroes[0:5]: \n",
    "    heroe_lookup = []\n",
    "    heroe_lookup = [i, process.extractOne(i, lst_marvel_chars)]\n",
    "    list_heroes_names.append(heroe_lookup)\n",
    "    \n",
    "df_list_heroes_names = pd.DataFrame(list_heroes_names, columns = ['Hero', 'Name']) \n",
    "df_list_heroes_names.to_csv('marvel_heroe_list.csv', index=False)"
   ]
  },
  {
   "cell_type": "code",
   "execution_count": null,
   "metadata": {},
   "outputs": [],
   "source": []
  }
 ],
 "metadata": {
  "kernelspec": {
   "display_name": "anaconda_kernel",
   "language": "python",
   "name": "anaconda_kernel"
  },
  "language_info": {
   "codemirror_mode": {
    "name": "ipython",
    "version": 3
   },
   "file_extension": ".py",
   "mimetype": "text/x-python",
   "name": "python",
   "nbconvert_exporter": "python",
   "pygments_lexer": "ipython3",
   "version": "3.6.10"
  }
 },
 "nbformat": 4,
 "nbformat_minor": 4
}
