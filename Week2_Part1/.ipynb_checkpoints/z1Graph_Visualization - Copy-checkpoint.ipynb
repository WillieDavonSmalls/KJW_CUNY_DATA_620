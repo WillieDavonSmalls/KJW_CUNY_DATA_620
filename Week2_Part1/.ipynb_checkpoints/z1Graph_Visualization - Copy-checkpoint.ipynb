{
 "cells": [
  {
   "cell_type": "markdown",
   "metadata": {
    "toc": true
   },
   "source": [
    "<h1>Table of Contents<span class=\"tocSkip\"></span></h1>\n",
    "<div class=\"toc\"><ul class=\"toc-item\"><li><span><a href=\"#Assignment\" data-toc-modified-id=\"Assignment-1\"><span class=\"toc-item-num\">1&nbsp;&nbsp;</span>Assignment</a></span></li><li><span><a href=\"#Prep\" data-toc-modified-id=\"Prep-2\"><span class=\"toc-item-num\">2&nbsp;&nbsp;</span>Prep</a></span></li><li><span><a href=\"#Create-a-csv-file-from-the-text-file\" data-toc-modified-id=\"Create-a-csv-file-from-the-text-file-3\"><span class=\"toc-item-num\">3&nbsp;&nbsp;</span>Create a csv file from the text file</a></span></li><li><span><a href=\"#Use-the-lists-to-create-a-graph\" data-toc-modified-id=\"Use-the-lists-to-create-a-graph-4\"><span class=\"toc-item-num\">4&nbsp;&nbsp;</span>Use the lists to create a graph</a></span></li></ul></div>"
   ]
  },
  {
   "cell_type": "markdown",
   "metadata": {},
   "source": [
    "### Assignment"
   ]
  },
  {
   "cell_type": "markdown",
   "metadata": {},
   "source": [
    "Graph databases are a type of NoSQL database, created to address the limitations of relational databases. While the graph model explicitly lays out the dependencies between nodes of data, the relational model and other NoSQL database models link the data by implicit connections. Graph databases, by design, allow simple and fast retrieval of complex hierarchical structures that are difficult to model.\n",
    "\n",
    "In this assignment.. \n",
    "Load a graph database of your choosing from a text file or other source. If you take a\n",
    "large network dataset from the web (such as from https://snap.stanford.edu/data/), please\n",
    "feel free at this point to load just a small subset of the nodes and edges.\n",
    "\n",
    "Create basic analysis on the graph, including the graph’s diameter, and at least one other\n",
    "metric of your choosing.\n",
    "\n",
    "Use a visualization tool of your choice (Neo4j, Gephi, etc.) to display information."
   ]
  },
  {
   "cell_type": "markdown",
   "metadata": {},
   "source": [
    "### Prep"
   ]
  },
  {
   "cell_type": "code",
   "execution_count": 1,
   "metadata": {},
   "outputs": [],
   "source": [
    "import networkx as nx\n",
    "import matplotlib.pyplot as plt\n",
    "import pandas as pd \n",
    "\n",
    "import warnings\n",
    "warnings.filterwarnings('ignore')"
   ]
  },
  {
   "cell_type": "markdown",
   "metadata": {},
   "source": [
    "### Create a csv file from the text file"
   ]
  },
  {
   "cell_type": "markdown",
   "metadata": {},
   "source": [
    "The Stanford collection of network graph databases includes one of roads in Pennylvania.  This dataset will be used for this assignement (link to Pennsylvania Roads dataset: https://snap.stanford.edu/data/roadNet-PA.html)"
   ]
  },
  {
   "cell_type": "code",
   "execution_count": 2,
   "metadata": {},
   "outputs": [
    {
     "name": "stdout",
     "output_type": "stream",
     "text": [
      "C:\\Users\\user\\Documents\\00_Applications_DataScience\\CUNY\\DATA620\\data620_repository\\Week2_Part1\n"
     ]
    }
   ],
   "source": [
    "%cd C:\\Users\\user\\Documents\\00_Applications_DataScience\\CUNY\\DATA620\\data620_repository\\Week2_Part1"
   ]
  },
  {
   "cell_type": "code",
   "execution_count": 3,
   "metadata": {},
   "outputs": [],
   "source": [
    "#load each column in the input file as a list of integers\n",
    "infile = 'roadNet-PA.txt'\n",
    "\n",
    "linecount = 0\n",
    "col1_list = []\n",
    "col2_list = []\n",
    "\n",
    "with open(infile,'r') as fileref:\n",
    "    lines = fileref.readlines()\n",
    "    for line in lines:\n",
    "        linecount += 1\n",
    "        if linecount > 4:\n",
    "            col1, col2 = line.split()\n",
    "            col1_list.append(int(col1))\n",
    "            col2_list.append(int(col2))"
   ]
  },
  {
   "cell_type": "code",
   "execution_count": 4,
   "metadata": {},
   "outputs": [
    {
     "data": {
      "text/html": [
       "<div>\n",
       "<style scoped>\n",
       "    .dataframe tbody tr th:only-of-type {\n",
       "        vertical-align: middle;\n",
       "    }\n",
       "\n",
       "    .dataframe tbody tr th {\n",
       "        vertical-align: top;\n",
       "    }\n",
       "\n",
       "    .dataframe thead th {\n",
       "        text-align: right;\n",
       "    }\n",
       "</style>\n",
       "<table border=\"1\" class=\"dataframe\">\n",
       "  <thead>\n",
       "    <tr style=\"text-align: right;\">\n",
       "      <th></th>\n",
       "      <th>node1</th>\n",
       "      <th>node2</th>\n",
       "    </tr>\n",
       "  </thead>\n",
       "  <tbody>\n",
       "    <tr>\n",
       "      <td>0</td>\n",
       "      <td>0</td>\n",
       "      <td>1</td>\n",
       "    </tr>\n",
       "    <tr>\n",
       "      <td>1</td>\n",
       "      <td>0</td>\n",
       "      <td>6309</td>\n",
       "    </tr>\n",
       "  </tbody>\n",
       "</table>\n",
       "</div>"
      ],
      "text/plain": [
       "   node1  node2\n",
       "0      0      1\n",
       "1      0   6309"
      ]
     },
     "execution_count": 4,
     "metadata": {},
     "output_type": "execute_result"
    }
   ],
   "source": [
    "#Load the two lists to a dataframe\n",
    "#indata = pd.DataFrame(columns=['node1', 'node2']\n",
    "indata = pd.DataFrame()\n",
    "\n",
    "indata['node1'] = col1_list\n",
    "indata['node2'] = col2_list\n",
    "\n",
    "indata.head(2)"
   ]
  },
  {
   "cell_type": "code",
   "execution_count": 5,
   "metadata": {},
   "outputs": [],
   "source": [
    "#export to csv\n",
    "indata.to_csv('roadNet-PA.csv', index=False)"
   ]
  }
 ],
 "metadata": {
  "kernelspec": {
   "display_name": "Python 3",
   "language": "python",
   "name": "python3"
  },
  "language_info": {
   "codemirror_mode": {
    "name": "ipython",
    "version": 3
   },
   "file_extension": ".py",
   "mimetype": "text/x-python",
   "name": "python",
   "nbconvert_exporter": "python",
   "pygments_lexer": "ipython3",
   "version": "3.7.4"
  },
  "toc": {
   "base_numbering": 1,
   "nav_menu": {},
   "number_sections": true,
   "sideBar": true,
   "skip_h1_title": false,
   "title_cell": "Table of Contents",
   "title_sidebar": "Contents",
   "toc_cell": true,
   "toc_position": {},
   "toc_section_display": true,
   "toc_window_display": false
  }
 },
 "nbformat": 4,
 "nbformat_minor": 2
}
