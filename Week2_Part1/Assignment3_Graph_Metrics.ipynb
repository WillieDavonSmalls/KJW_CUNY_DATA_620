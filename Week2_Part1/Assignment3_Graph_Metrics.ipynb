{
 "cells": [
  {
   "cell_type": "markdown",
   "metadata": {
    "toc": true
   },
   "source": [
    "<h1>Table of Contents<span class=\"tocSkip\"></span></h1>\n",
    "<div class=\"toc\"><ul class=\"toc-item\"><li><span><a href=\"#Assignment\" data-toc-modified-id=\"Assignment-1\"><span class=\"toc-item-num\">1&nbsp;&nbsp;</span>Assignment</a></span></li><li><span><a href=\"#Prep\" data-toc-modified-id=\"Prep-2\"><span class=\"toc-item-num\">2&nbsp;&nbsp;</span>Prep</a></span></li><li><span><a href=\"#Get-the-data\" data-toc-modified-id=\"Get-the-data-3\"><span class=\"toc-item-num\">3&nbsp;&nbsp;</span>Get the data</a></span></li><li><span><a href=\"#Use-the-lists-to-create-a-graph\" data-toc-modified-id=\"Use-the-lists-to-create-a-graph-4\"><span class=\"toc-item-num\">4&nbsp;&nbsp;</span>Use the lists to create a graph</a></span></li><li><span><a href=\"#Graph-Analysis-Metrics\" data-toc-modified-id=\"Graph-Analysis-Metrics-5\"><span class=\"toc-item-num\">5&nbsp;&nbsp;</span>Graph Analysis Metrics</a></span></li><li><span><a href=\"#Create-a-csv-file-for-Gephi\" data-toc-modified-id=\"Create-a-csv-file-for-Gephi-6\"><span class=\"toc-item-num\">6&nbsp;&nbsp;</span>Create a csv file for Gephi</a></span></li></ul></div>"
   ]
  },
  {
   "cell_type": "markdown",
   "metadata": {},
   "source": [
    "### Assignment"
   ]
  },
  {
   "cell_type": "markdown",
   "metadata": {},
   "source": [
    "Graph databases are a type of NoSQL database, created to address the limitations of relational databases. While the graph model explicitly lays out the dependencies between nodes of data, the relational model and other NoSQL database models link the data by implicit connections. Graph databases, by design, allow simple and fast retrieval of complex hierarchical structures that are difficult to model.\n",
    "\n",
    "In this assignment.. \n",
    "Load a graph database of your choosing from a text file or other source. If you take a\n",
    "large network dataset from the web (such as from https://snap.stanford.edu/data/), please\n",
    "feel free at this point to load just a small subset of the nodes and edges.\n",
    "\n",
    "Create basic analysis on the graph, including the graph’s diameter, and at least one other\n",
    "metric of your choosing.\n",
    "\n",
    "Use a visualization tool of your choice (Neo4j, Gephi, etc.) to display information."
   ]
  },
  {
   "cell_type": "markdown",
   "metadata": {},
   "source": [
    "### Prep"
   ]
  },
  {
   "cell_type": "code",
   "execution_count": 1,
   "metadata": {},
   "outputs": [],
   "source": [
    "import networkx as nx\n",
    "import matplotlib.pyplot as plt\n",
    "import pandas as pd\n",
    "\n",
    "import warnings\n",
    "warnings.filterwarnings('ignore')"
   ]
  },
  {
   "cell_type": "markdown",
   "metadata": {},
   "source": [
    "### Get the data"
   ]
  },
  {
   "cell_type": "markdown",
   "metadata": {},
   "source": [
    "The Stanford collection of network graph databases includes one of roads in Pennylvania.  This dataset will be used for this assignement (link to Pennsylvania Roads dataset: https://snap.stanford.edu/data/roadNet-PA.html)"
   ]
  },
  {
   "cell_type": "code",
   "execution_count": 2,
   "metadata": {},
   "outputs": [
    {
     "name": "stdout",
     "output_type": "stream",
     "text": [
      "C:\\Users\\user\\Documents\\00_Applications_DataScience\\CUNY\\DATA620\\data620_repository\\Week2_Part1\n"
     ]
    }
   ],
   "source": [
    "%cd C:\\Users\\user\\Documents\\00_Applications_DataScience\\CUNY\\DATA620\\data620_repository\\Week2_Part1"
   ]
  },
  {
   "cell_type": "code",
   "execution_count": 3,
   "metadata": {},
   "outputs": [],
   "source": [
    "#load each column in the input file as a list of integers\n",
    "infile = 'roadNet-PA.txt'\n",
    "\n",
    "linecount = 0\n",
    "col1_list = []\n",
    "col2_list = []\n",
    "\n",
    "with open(infile,'r') as fileref:\n",
    "    lines = fileref.readlines()\n",
    "    for line in lines:\n",
    "        linecount += 1\n",
    "        if linecount > 4:\n",
    "            col1, col2 = line.split()\n",
    "            col1_list.append(int(col1))\n",
    "            col2_list.append(int(col2))"
   ]
  },
  {
   "cell_type": "markdown",
   "metadata": {},
   "source": [
    "### Use the lists to create a graph"
   ]
  },
  {
   "cell_type": "code",
   "execution_count": 4,
   "metadata": {},
   "outputs": [],
   "source": [
    "#Select a smaller set of nodes to utilize for this assignment\n",
    "small_col1_list = col1_list[:100]\n",
    "small_col2_list = col2_list[:100]"
   ]
  },
  {
   "cell_type": "code",
   "execution_count": 5,
   "metadata": {},
   "outputs": [],
   "source": [
    "#Load the data from the lists to a graph\n",
    "g1 = nx.Graph()\n",
    "\n",
    "#nodes\n",
    "g1.add_nodes_from(small_col1_list)\n",
    "g1.add_nodes_from(small_col2_list)\n",
    "connect_all_list = [(13,0), (13,11)]\n",
    "\n",
    "#edges\n",
    "edges_list = list(zip(small_col1_list, small_col2_list))\n",
    "g1.add_edges_from(edges_list)\n",
    "g1.add_edges_from(connect_all_list)"
   ]
  },
  {
   "cell_type": "markdown",
   "metadata": {},
   "source": [
    "### Graph Analysis Metrics"
   ]
  },
  {
   "cell_type": "code",
   "execution_count": 6,
   "metadata": {},
   "outputs": [
    {
     "name": "stdout",
     "output_type": "stream",
     "text": [
      "Using NetworkX function, the diameter is 13\n",
      "Max eccentricity, which equates to the diameter, is 13\n"
     ]
    }
   ],
   "source": [
    "#Calculate diameter using network x function\n",
    "print(f'Using NetworkX function, the diameter is {nx.diameter(g1)}')\n",
    "\n",
    "#Calculate the diameter by finding the maximum eccentricity value\n",
    "excentricity_dict = nx.eccentricity(g1)\n",
    "\n",
    "max_excentricity = 0\n",
    "for v in excentricity_dict:\n",
    "    if excentricity_dict[v] > max_excentricity:\n",
    "        max_excentricity = excentricity_dict[v]\n",
    "\n",
    "print(f'Max eccentricity, which equates to the diameter, is {max_excentricity}')  "
   ]
  },
  {
   "cell_type": "code",
   "execution_count": 7,
   "metadata": {},
   "outputs": [
    {
     "name": "stdout",
     "output_type": "stream",
     "text": [
      "Number of nodes 60\n",
      "Number of edges 67\n",
      "Center is [5, 9, 15]\n",
      "Periphery is [3861, 3872, 389, 4005, 58, 69, 76, 197]\n",
      "Radius is 7\n"
     ]
    }
   ],
   "source": [
    "#Additional Metrics\n",
    "print(f'Number of nodes {g1.number_of_nodes()}')\n",
    "print(f'Number of edges {g1.number_of_edges()}')\n",
    "print(f'Center is {nx.center(g1)}')\n",
    "print(f'Periphery is {nx.periphery(g1)}')\n",
    "print(f'Radius is {nx.radius(g1)}')"
   ]
  },
  {
   "cell_type": "markdown",
   "metadata": {},
   "source": [
    "### Create a csv file for Gephi"
   ]
  },
  {
   "cell_type": "markdown",
   "metadata": {},
   "source": [
    "The code below creates a csv file, which is then read into Gephi (a graph database package).  Gephi is then used to create a visualization of the graph.  Note that NetworkX could also be used to create the graph, but for this assignment a graph database is to be used."
   ]
  },
  {
   "cell_type": "code",
   "execution_count": 8,
   "metadata": {},
   "outputs": [
    {
     "data": {
      "text/html": [
       "<div>\n",
       "<style scoped>\n",
       "    .dataframe tbody tr th:only-of-type {\n",
       "        vertical-align: middle;\n",
       "    }\n",
       "\n",
       "    .dataframe tbody tr th {\n",
       "        vertical-align: top;\n",
       "    }\n",
       "\n",
       "    .dataframe thead th {\n",
       "        text-align: right;\n",
       "    }\n",
       "</style>\n",
       "<table border=\"1\" class=\"dataframe\">\n",
       "  <thead>\n",
       "    <tr style=\"text-align: right;\">\n",
       "      <th></th>\n",
       "      <th>node1</th>\n",
       "      <th>node2</th>\n",
       "    </tr>\n",
       "  </thead>\n",
       "  <tbody>\n",
       "    <tr>\n",
       "      <td>0</td>\n",
       "      <td>0</td>\n",
       "      <td>1</td>\n",
       "    </tr>\n",
       "    <tr>\n",
       "      <td>1</td>\n",
       "      <td>0</td>\n",
       "      <td>6309</td>\n",
       "    </tr>\n",
       "  </tbody>\n",
       "</table>\n",
       "</div>"
      ],
      "text/plain": [
       "   node1  node2\n",
       "0      0      1\n",
       "1      0   6309"
      ]
     },
     "execution_count": 8,
     "metadata": {},
     "output_type": "execute_result"
    }
   ],
   "source": [
    "#Load the two lists to a dataframe\n",
    "#indata = pd.DataFrame(columns=['node1', 'node2']\n",
    "indata = pd.DataFrame()\n",
    "\n",
    "indata['node1'] = small_col1_list\n",
    "indata['node2'] = small_col2_list\n",
    "\n",
    "indata.head(2)"
   ]
  },
  {
   "cell_type": "code",
   "execution_count": 9,
   "metadata": {},
   "outputs": [],
   "source": [
    "#export to csv so that Gephi can read in the data\n",
    "indata.to_csv('roadNet-PA-subset.csv', index=False)"
   ]
  }
 ],
 "metadata": {
  "kernelspec": {
   "display_name": "Python 3",
   "language": "python",
   "name": "python3"
  },
  "language_info": {
   "codemirror_mode": {
    "name": "ipython",
    "version": 3
   },
   "file_extension": ".py",
   "mimetype": "text/x-python",
   "name": "python",
   "nbconvert_exporter": "python",
   "pygments_lexer": "ipython3",
   "version": "3.7.4"
  },
  "toc": {
   "base_numbering": 1,
   "nav_menu": {},
   "number_sections": true,
   "sideBar": true,
   "skip_h1_title": false,
   "title_cell": "Table of Contents",
   "title_sidebar": "Contents",
   "toc_cell": true,
   "toc_position": {},
   "toc_section_display": true,
   "toc_window_display": false
  }
 },
 "nbformat": 4,
 "nbformat_minor": 2
}
