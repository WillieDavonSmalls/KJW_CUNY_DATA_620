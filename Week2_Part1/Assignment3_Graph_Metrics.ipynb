{
  "nbformat": 4,
  "nbformat_minor": 0,
  "metadata": {
    "kernelspec": {
      "display_name": "anaconda_kernel",
      "language": "python",
      "name": "anaconda_kernel"
    },
    "language_info": {
      "codemirror_mode": {
        "name": "ipython",
        "version": 3
      },
      "file_extension": ".py",
      "mimetype": "text/x-python",
      "name": "python",
      "nbconvert_exporter": "python",
      "pygments_lexer": "ipython3",
      "version": "3.6.10"
    },
    "toc": {
      "base_numbering": 1,
      "nav_menu": {},
      "number_sections": true,
      "sideBar": true,
      "skip_h1_title": false,
      "title_cell": "Table of Contents",
      "title_sidebar": "Contents",
      "toc_cell": true,
      "toc_position": {},
      "toc_section_display": true,
      "toc_window_display": false
    },
    "colab": {
      "name": "Assignment3_Graph_Metrics.ipynb",
      "provenance": []
    }
  },
  "cells": [
    {
      "cell_type": "markdown",
      "metadata": {
        "toc": true,
        "id": "y5Po0KPuvOis",
        "colab_type": "text"
      },
      "source": [
        "<h1>Table of Contents<span class=\"tocSkip\"></span></h1>\n",
        "<div class=\"toc\"><ul class=\"toc-item\"><li><span><a href=\"#Assignment\" data-toc-modified-id=\"Assignment-1\"><span class=\"toc-item-num\">1&nbsp;&nbsp;</span>Assignment</a></span></li><li><span><a href=\"#Prep\" data-toc-modified-id=\"Prep-2\"><span class=\"toc-item-num\">2&nbsp;&nbsp;</span>Prep</a></span></li><li><span><a href=\"#Get-the-data\" data-toc-modified-id=\"Get-the-data-3\"><span class=\"toc-item-num\">3&nbsp;&nbsp;</span>Get the data</a></span></li><li><span><a href=\"#Use-the-lists-to-create-a-graph\" data-toc-modified-id=\"Use-the-lists-to-create-a-graph-4\"><span class=\"toc-item-num\">4&nbsp;&nbsp;</span>Use the lists to create a graph</a></span></li><li><span><a href=\"#Graph-Analysis-Metrics\" data-toc-modified-id=\"Graph-Analysis-Metrics-5\"><span class=\"toc-item-num\">5&nbsp;&nbsp;</span>Graph Analysis Metrics</a></span></li><li><span><a href=\"#Create-a-csv-file-for-Gephi\" data-toc-modified-id=\"Create-a-csv-file-for-Gephi-6\"><span class=\"toc-item-num\">6&nbsp;&nbsp;</span>Create a csv file for Gephi</a></span></li></ul></div>"
      ]
    },
    {
      "cell_type": "markdown",
      "metadata": {
        "id": "A0AuQ1Z1vOiv",
        "colab_type": "text"
      },
      "source": [
        "### Assignment"
      ]
    },
    {
      "cell_type": "markdown",
      "metadata": {
        "id": "scgV8LyxvOix",
        "colab_type": "text"
      },
      "source": [
        "Graph databases are a type of NoSQL database, created to address the limitations of relational databases. While the graph model explicitly lays out the dependencies between nodes of data, the relational model and other NoSQL database models link the data by implicit connections. Graph databases, by design, allow simple and fast retrieval of complex hierarchical structures that are difficult to model.\n",
        "\n",
        "In this assignment.. \n",
        "Load a graph database of your choosing from a text file or other source. If you take a\n",
        "large network dataset from the web (such as from https://snap.stanford.edu/data/), please\n",
        "feel free at this point to load just a small subset of the nodes and edges.\n",
        "\n",
        "Create basic analysis on the graph, including the graph’s diameter, and at least one other\n",
        "metric of your choosing.\n",
        "\n",
        "Use a visualization tool of your choice (Neo4j, Gephi, etc.) to display information."
      ]
    },
    {
      "cell_type": "markdown",
      "metadata": {
        "id": "Wf59ukRnvOiz",
        "colab_type": "text"
      },
      "source": [
        "### Prep"
      ]
    },
    {
      "cell_type": "code",
      "metadata": {
        "id": "lhxdKDuivOi3",
        "colab_type": "code",
        "colab": {}
      },
      "source": [
        "import networkx as nx\n",
        "import matplotlib.pyplot as plt\n",
        "import pandas as pd\n",
        "import os\n",
        "import warnings\n",
        "warnings.filterwarnings('ignore')"
      ],
      "execution_count": 0,
      "outputs": []
    },
    {
      "cell_type": "markdown",
      "metadata": {
        "id": "qbxNK4VAvOjE",
        "colab_type": "text"
      },
      "source": [
        "### Get the data"
      ]
    },
    {
      "cell_type": "markdown",
      "metadata": {
        "id": "OJxiq-1JvOjG",
        "colab_type": "text"
      },
      "source": [
        "The Stanford collection of network graph databases includes one of roads in Pennylvania.  This dataset will be used for this assignement (link to Pennsylvania Roads dataset: https://snap.stanford.edu/data/roadNet-PA.html)"
      ]
    },
    {
      "cell_type": "code",
      "metadata": {
        "id": "hQ-us-K1vOj8",
        "colab_type": "code",
        "colab": {},
        "outputId": "f1ae310a-b386-4eb9-8ae0-9313a6a71372"
      },
      "source": [
        "#%cd C:\\Users\\user\\Documents\\00_Applications_DataScience\\CUNY\\DATA620\\data620_repository\\Week2_Part1\n",
        "%cd /Users/williesmalls/Documents/School/CUNY SPS/01 - Courses/00 - Web Analytics/KJW_CUNY_DATA_620/Week2_Part1"
      ],
      "execution_count": 0,
      "outputs": [
        {
          "output_type": "stream",
          "text": [
            "/Users/williesmalls/Documents/School/CUNY SPS/01 - Courses/00 - Web Analytics/KJW_CUNY_DATA_620/Week2_Part1\n"
          ],
          "name": "stdout"
        }
      ]
    },
    {
      "cell_type": "code",
      "metadata": {
        "id": "FUfshv2gvOkF",
        "colab_type": "code",
        "colab": {}
      },
      "source": [
        "#load each column in the input file as a list of integers\n",
        "infile = 'roadNet-PA.txt'\n",
        "\n",
        "linecount = 0\n",
        "col1_list = []\n",
        "col2_list = []\n",
        "\n",
        "with open(infile,'r') as fileref:\n",
        "    lines = fileref.readlines()\n",
        "    for line in lines:\n",
        "        linecount += 1\n",
        "        if linecount > 4:\n",
        "            col1, col2 = line.split()\n",
        "            col1_list.append(int(col1))\n",
        "            col2_list.append(int(col2))\n",
        "            \n"
      ],
      "execution_count": 0,
      "outputs": []
    },
    {
      "cell_type": "markdown",
      "metadata": {
        "id": "TuohA-APvOkO",
        "colab_type": "text"
      },
      "source": [
        "### Use the lists to create a graph"
      ]
    },
    {
      "cell_type": "code",
      "metadata": {
        "id": "fOwFdyK8vOkP",
        "colab_type": "code",
        "colab": {}
      },
      "source": [
        "#Select a smaller set of nodes to utilize for this assignment\n",
        "small_col1_list = col1_list[:100]\n",
        "small_col2_list = col2_list[:100]"
      ],
      "execution_count": 0,
      "outputs": []
    },
    {
      "cell_type": "code",
      "metadata": {
        "id": "Z4YT6PmyvOkX",
        "colab_type": "code",
        "colab": {}
      },
      "source": [
        "#Load the data from the lists to a graph\n",
        "g1 = nx.Graph()\n",
        "\n",
        "#nodes\n",
        "g1.add_nodes_from(small_col1_list)\n",
        "g1.add_nodes_from(small_col2_list)\n",
        "connect_all_list = [(13,0), (13,11)]\n",
        "\n",
        "#edges\n",
        "edges_list = list(zip(small_col1_list, small_col2_list))\n",
        "g1.add_edges_from(edges_list)\n",
        "g1.add_edges_from(connect_all_list)\n",
        "\n",
        "# list(g1.nodes(data=True))[0:5]\n",
        "# list(g1.edges(data=True))[0:5]\n",
        "# nx.draw(g1, with_labels=True)"
      ],
      "execution_count": 0,
      "outputs": []
    },
    {
      "cell_type": "markdown",
      "metadata": {
        "id": "ItZfmlaSvOkl",
        "colab_type": "text"
      },
      "source": [
        "### Graph Analysis Metrics"
      ]
    },
    {
      "cell_type": "code",
      "metadata": {
        "id": "hY9vtWhJvOlr",
        "colab_type": "code",
        "colab": {},
        "outputId": "be4af568-def5-4ff0-99c8-30e46457e0eb"
      },
      "source": [
        "#Calculate diameter using network x function\n",
        "print(f'Using NetworkX function, the diameter is {nx.diameter(g1)}')\n",
        "\n",
        "#Calculate the diameter by finding the maximum eccentricity value\n",
        "excentricity_dict = nx.eccentricity(g1)\n",
        "\n",
        "max_excentricity = 0\n",
        "for v in excentricity_dict:\n",
        "    if excentricity_dict[v] > max_excentricity:\n",
        "        max_excentricity = excentricity_dict[v]\n",
        "\n",
        "print(f'Max eccentricity, which equates to the diameter, is {max_excentricity}')  "
      ],
      "execution_count": 0,
      "outputs": [
        {
          "output_type": "stream",
          "text": [
            "Using NetworkX function, the diameter is 13\n",
            "Max eccentricity, which equates to the diameter, is 13\n"
          ],
          "name": "stdout"
        }
      ]
    },
    {
      "cell_type": "code",
      "metadata": {
        "id": "vagzoWtEvOmD",
        "colab_type": "code",
        "colab": {},
        "outputId": "7b8ca5cc-846f-433c-94e0-c2938c888cdc"
      },
      "source": [
        "#Additional Metrics\n",
        "print(f'Number of nodes {g1.number_of_nodes()}')\n",
        "print(f'Number of edges {g1.number_of_edges()}')\n",
        "print(f'Center is {nx.center(g1)}')\n",
        "print(f'Periphery is {nx.periphery(g1)}')\n",
        "print(f'Radius is {nx.radius(g1)}')\n",
        "\n",
        "#most important neighbors (connections)\n",
        "#5 way is bad.  five roads cross at one point. \n",
        "#More things can happen.  \n",
        "#Usually just four (east, west, south, north)\n",
        "#Planning issue \n",
        "\n",
        "### J - possibly color nodes.  \n",
        "print('Top five intersection with the most connections')\n",
        "(pd.Series({n: len(list(g1.neighbors(n))) \n",
        "            for n in g1.nodes()})\n",
        " .sort_values(ascending=False)\n",
        " .head(5)\n",
        ")"
      ],
      "execution_count": 0,
      "outputs": [
        {
          "output_type": "stream",
          "text": [
            "Number of nodes 60\n",
            "Number of edges 67\n",
            "Center is [5, 9, 15]\n",
            "Periphery is [3861, 3872, 389, 4005, 58, 69, 76, 197]\n",
            "Radius is 7\n",
            "Top five intersection with the most connections\n"
          ],
          "name": "stdout"
        },
        {
          "output_type": "execute_result",
          "data": {
            "text/plain": [
              "6      5\n",
              "0      4\n",
              "309    4\n",
              "22     4\n",
              "20     4\n",
              "dtype: int64"
            ]
          },
          "metadata": {
            "tags": []
          },
          "execution_count": 33
        }
      ]
    },
    {
      "cell_type": "code",
      "metadata": {
        "id": "VbyOkoOTvOmL",
        "colab_type": "code",
        "colab": {},
        "outputId": "83f9e895-0dc5-414d-b4bb-a581f77e8b44"
      },
      "source": [
        "#Graph of intersections\n",
        "nx.draw(g1, with_labels=True)"
      ],
      "execution_count": 0,
      "outputs": [
        {
          "output_type": "display_data",
          "data": {
            "image/png": "[encoded data removed]",
            "text/plain": [
              "<Figure size 432x288 with 1 Axes>"
            ]
          },
          "metadata": {
            "tags": []
          }
        }
      ]
    },
    {
      "cell_type": "markdown",
      "metadata": {
        "id": "3cdM52MYvOmU",
        "colab_type": "text"
      },
      "source": [
        "### Create a csv file for Gephi"
      ]
    },
    {
      "cell_type": "markdown",
      "metadata": {
        "id": "8sB1htFQvOmV",
        "colab_type": "text"
      },
      "source": [
        "The code below creates a csv file, which is then read into Gephi (a graph database package).  Gephi is then used to create a visualization of the graph.  Note that NetworkX could also be used to create the graph, but for this assignment a graph database is to be used."
      ]
    },
    {
      "cell_type": "code",
      "metadata": {
        "id": "8e8uT35ovOmb",
        "colab_type": "code",
        "colab": {},
        "outputId": "2cb3d668-2671-4af1-cd21-838fc38317ed"
      },
      "source": [
        "#Load the two lists to a dataframe\n",
        "#indata = pd.DataFrame(columns=['node1', 'node2']\n",
        "indata = pd.DataFrame()\n",
        "\n",
        "indata['node1'] = small_col1_list\n",
        "indata['node2'] = small_col2_list\n",
        "\n",
        "indata.head(2)"
      ],
      "execution_count": 0,
      "outputs": [
        {
          "output_type": "execute_result",
          "data": {
            "text/html": [
              "<div>\n",
              "<style scoped>\n",
              "    .dataframe tbody tr th:only-of-type {\n",
              "        vertical-align: middle;\n",
              "    }\n",
              "\n",
              "    .dataframe tbody tr th {\n",
              "        vertical-align: top;\n",
              "    }\n",
              "\n",
              "    .dataframe thead th {\n",
              "        text-align: right;\n",
              "    }\n",
              "</style>\n",
              "<table border=\"1\" class=\"dataframe\">\n",
              "  <thead>\n",
              "    <tr style=\"text-align: right;\">\n",
              "      <th></th>\n",
              "      <th>node1</th>\n",
              "      <th>node2</th>\n",
              "    </tr>\n",
              "  </thead>\n",
              "  <tbody>\n",
              "    <tr>\n",
              "      <th>0</th>\n",
              "      <td>0</td>\n",
              "      <td>1</td>\n",
              "    </tr>\n",
              "    <tr>\n",
              "      <th>1</th>\n",
              "      <td>0</td>\n",
              "      <td>6309</td>\n",
              "    </tr>\n",
              "  </tbody>\n",
              "</table>\n",
              "</div>"
            ],
            "text/plain": [
              "   node1  node2\n",
              "0      0      1\n",
              "1      0   6309"
            ]
          },
          "metadata": {
            "tags": []
          },
          "execution_count": 8
        }
      ]
    },
    {
      "cell_type": "code",
      "metadata": {
        "id": "fLLAbuiivOnz",
        "colab_type": "code",
        "colab": {}
      },
      "source": [
        "#export to csv so that Gephi can read in the data\n",
        "indata.to_csv('roadNet-PA-subset.csv', index=False)"
      ],
      "execution_count": 0,
      "outputs": []
    },
    {
      "cell_type": "code",
      "metadata": {
        "id": "rpOjzXvRvOoE",
        "colab_type": "code",
        "colab": {},
        "outputId": "dcc631a7-9475-4636-c608-38235265e4ed"
      },
      "source": [
        "#adjacency matrix \n",
        "from nxviz import MatrixPlot\n",
        "\n",
        "m = MatrixPlot(g1)\n",
        "m.draw()\n",
        "plt.show()\n",
        "#bi-directional (for the most part), symetric along the diagonal, \n",
        "#Makes sense - roads are using bi-directional, west <-> East, North <-> South"
      ],
      "execution_count": 0,
      "outputs": [
        {
          "output_type": "display_data",
          "data": {
            "image/png": "[encoded data removed]",
            "text/plain": [
              "<Figure size 432x432 with 1 Axes>"
            ]
          },
          "metadata": {
            "tags": [],
            "needs_background": "light"
          }
        }
      ]
    }
  ]
}