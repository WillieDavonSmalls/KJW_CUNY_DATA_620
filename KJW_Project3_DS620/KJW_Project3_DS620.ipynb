{
 "cells": [
  {
   "cell_type": "markdown",
   "metadata": {
    "toc": true
   },
   "source": [
    "<h1>Table of Contents<span class=\"tocSkip\"></span></h1>\n",
    "<div class=\"toc\"><ul class=\"toc-item\"><li><span><a href=\"#About-this-project\" data-toc-modified-id=\"About-this-project-1\"><span class=\"toc-item-num\">1&nbsp;&nbsp;</span>About this project</a></span></li><li><span><a href=\"#Data-load-and-prepare\" data-toc-modified-id=\"Data-load-and-prepare-2\"><span class=\"toc-item-num\">2&nbsp;&nbsp;</span>Data load and prepare</a></span></li><li><span><a href=\"#Data-Metrics\" data-toc-modified-id=\"Data-Metrics-3\"><span class=\"toc-item-num\">3&nbsp;&nbsp;</span>Data Metrics</a></span></li><li><span><a href=\"#Features\" data-toc-modified-id=\"Features-4\"><span class=\"toc-item-num\">4&nbsp;&nbsp;</span>Features</a></span></li><li><span><a href=\"#Naive-Bayes-Model-train-and-devtest\" data-toc-modified-id=\"Naive-Bayes-Model-train-and-devtest-5\"><span class=\"toc-item-num\">5&nbsp;&nbsp;</span>Naive Bayes Model train and devtest</a></span></li><li><span><a href=\"#Naive-Bayes-model-test-data\" data-toc-modified-id=\"Naive-Bayes-model-test-data-6\"><span class=\"toc-item-num\">6&nbsp;&nbsp;</span>Naive Bayes model test data</a></span></li><li><span><a href=\"#Conclusion\" data-toc-modified-id=\"Conclusion-7\"><span class=\"toc-item-num\">7&nbsp;&nbsp;</span>Conclusion</a></span></li><li><span><a href=\"#Footnotes\" data-toc-modified-id=\"Footnotes-8\"><span class=\"toc-item-num\">8&nbsp;&nbsp;</span>Footnotes</a></span></li></ul></div>"
   ]
  },
  {
   "cell_type": "code",
   "execution_count": 1,
   "metadata": {
    "scrolled": true
   },
   "outputs": [
    {
     "data": {
      "text/html": [
       "<video src=\"KJW_Project3_DS620_video.mkv\" controls  >\n",
       "      Your browser does not support the <code>video</code> element.\n",
       "    </video>"
      ],
      "text/plain": [
       "<IPython.core.display.Video object>"
      ]
     },
     "execution_count": 1,
     "metadata": {},
     "output_type": "execute_result"
    }
   ],
   "source": [
    "from IPython.display import Video\n",
    "\n",
    "Video(\"KJW_Project3_DS620_video.mkv\")"
   ]
  },
  {
   "cell_type": "markdown",
   "metadata": {},
   "source": [
    "### About this project"
   ]
  },
  {
   "cell_type": "markdown",
   "metadata": {},
   "source": [
    "Using Decision Trees, Naive Bayes, and/or Maximum Entropy build the best name gender classifier you can, using the NLTK Names corpus data.  We decided to use Naive Bayes.\n",
    "<br><br>\n",
    "Split the Names Corpus into three subsets: 500 words for the test set, 500 words for the dev-test set, and the remaining 6900 words for the training set. Then, starting with the example name gender classifier, make incremental improvements. Use the dev-test set to check your progress. Once you are satisfied with your classifier, check its final performance on the test set."
   ]
  },
  {
   "cell_type": "markdown",
   "metadata": {},
   "source": [
    "### Data load and prepare"
   ]
  },
  {
   "cell_type": "code",
   "execution_count": 21,
   "metadata": {},
   "outputs": [],
   "source": [
    "from nltk.corpus import names\n",
    "import pandas as pd \n",
    "from collections import defaultdict\n",
    "\n",
    "from nltk import NaiveBayesClassifier\n",
    "from nltk import classify\n",
    "\n",
    "from xgboost import XGBClassifier\n",
    "from sklearn.naive_bayes import MultinomialNB\n",
    "\n",
    "\n",
    "import warnings\n",
    "warnings.filterwarnings('ignore')\n",
    "\n",
    "pd.set_option('Display.max_columns', None)\n",
    "pd.set_option('Display.max_rows', None)"
   ]
  },
  {
   "cell_type": "code",
   "execution_count": 22,
   "metadata": {},
   "outputs": [
    {
     "name": "stdout",
     "output_type": "stream",
     "text": [
      "C:\\Users\\user\\Documents\\00_Applications_DataScience\\CUNY\\DATA620\\KJW_CUNY_DATA_620\\KJW_Project3_DS620\n"
     ]
    }
   ],
   "source": [
    "%cd C:\\Users\\user\\Documents\\00_Applications_DataScience\\CUNY\\DATA620\\KJW_CUNY_DATA_620\\KJW_Project3_DS620"
   ]
  },
  {
   "cell_type": "code",
   "execution_count": 23,
   "metadata": {},
   "outputs": [],
   "source": [
    "#Get the male and female names, then create a dataframe with two columns, name and gender, that has all the\n",
    "#male and female names\n",
    "male_names = names.words('male.txt')\n",
    "male_gender = 'male ' * len(male_names)\n",
    "male_gender = male_gender.split()\n",
    "\n",
    "female_names = names.words('female.txt')\n",
    "female_gender = 'female ' * len(female_names)\n",
    "female_gender = female_gender.split()\n",
    "\n",
    "data = pd.DataFrame()\n",
    "data['name'] = male_names + female_names\n",
    "data['gender'] = male_gender + female_gender"
   ]
  },
  {
   "cell_type": "code",
   "execution_count": 24,
   "metadata": {},
   "outputs": [
    {
     "data": {
      "text/html": [
       "<div>\n",
       "<style scoped>\n",
       "    .dataframe tbody tr th:only-of-type {\n",
       "        vertical-align: middle;\n",
       "    }\n",
       "\n",
       "    .dataframe tbody tr th {\n",
       "        vertical-align: top;\n",
       "    }\n",
       "\n",
       "    .dataframe thead th {\n",
       "        text-align: right;\n",
       "    }\n",
       "</style>\n",
       "<table border=\"1\" class=\"dataframe\">\n",
       "  <thead>\n",
       "    <tr style=\"text-align: right;\">\n",
       "      <th></th>\n",
       "      <th>name</th>\n",
       "      <th>gender</th>\n",
       "    </tr>\n",
       "  </thead>\n",
       "  <tbody>\n",
       "    <tr>\n",
       "      <td>0</td>\n",
       "      <td>Megan</td>\n",
       "      <td>female</td>\n",
       "    </tr>\n",
       "    <tr>\n",
       "      <td>1</td>\n",
       "      <td>Cam</td>\n",
       "      <td>female</td>\n",
       "    </tr>\n",
       "    <tr>\n",
       "      <td>2</td>\n",
       "      <td>Bailie</td>\n",
       "      <td>male</td>\n",
       "    </tr>\n",
       "    <tr>\n",
       "      <td>3</td>\n",
       "      <td>Hanna</td>\n",
       "      <td>female</td>\n",
       "    </tr>\n",
       "    <tr>\n",
       "      <td>4</td>\n",
       "      <td>Antonio</td>\n",
       "      <td>male</td>\n",
       "    </tr>\n",
       "  </tbody>\n",
       "</table>\n",
       "</div>"
      ],
      "text/plain": [
       "      name  gender\n",
       "0    Megan  female\n",
       "1      Cam  female\n",
       "2   Bailie    male\n",
       "3    Hanna  female\n",
       "4  Antonio    male"
      ]
     },
     "execution_count": 24,
     "metadata": {},
     "output_type": "execute_result"
    }
   ],
   "source": [
    "#Shuffle the dataframe\n",
    "data = data.sample(frac=1).reset_index(drop=True)\n",
    "\n",
    "data.head()"
   ]
  },
  {
   "cell_type": "markdown",
   "metadata": {},
   "source": [
    "### Data Metrics"
   ]
  },
  {
   "cell_type": "code",
   "execution_count": 25,
   "metadata": {},
   "outputs": [
    {
     "name": "stdout",
     "output_type": "stream",
     "text": [
      "There are 2943 male names out of a total of 7944 names\n",
      "There are 5001 female names\n",
      "\n"
     ]
    }
   ],
   "source": [
    "total_count = len(male_names) + len(female_names)\n",
    "print(f'There are {len(male_names)} male names out of a total of {total_count} names')\n",
    "print(f'There are {len(female_names)} female names')\n",
    "print()"
   ]
  },
  {
   "cell_type": "code",
   "execution_count": 26,
   "metadata": {},
   "outputs": [
    {
     "name": "stdout",
     "output_type": "stream",
     "text": [
      "There are 365 duplicate names.\n",
      "\n",
      "Shown below is a count of 730 names with 365 unique names, so these are all names in both the male and female datasets\n",
      "Since this project is to predict binomial gender classification, these names will be removed\n"
     ]
    },
    {
     "data": {
      "text/html": [
       "<div>\n",
       "<style scoped>\n",
       "    .dataframe tbody tr th:only-of-type {\n",
       "        vertical-align: middle;\n",
       "    }\n",
       "\n",
       "    .dataframe tbody tr th {\n",
       "        vertical-align: top;\n",
       "    }\n",
       "\n",
       "    .dataframe thead th {\n",
       "        text-align: right;\n",
       "    }\n",
       "</style>\n",
       "<table border=\"1\" class=\"dataframe\">\n",
       "  <thead>\n",
       "    <tr style=\"text-align: right;\">\n",
       "      <th></th>\n",
       "      <th>name</th>\n",
       "      <th>gender</th>\n",
       "    </tr>\n",
       "  </thead>\n",
       "  <tbody>\n",
       "    <tr>\n",
       "      <td>count</td>\n",
       "      <td>730</td>\n",
       "      <td>730</td>\n",
       "    </tr>\n",
       "    <tr>\n",
       "      <td>unique</td>\n",
       "      <td>365</td>\n",
       "      <td>2</td>\n",
       "    </tr>\n",
       "    <tr>\n",
       "      <td>top</td>\n",
       "      <td>Addie</td>\n",
       "      <td>female</td>\n",
       "    </tr>\n",
       "    <tr>\n",
       "      <td>freq</td>\n",
       "      <td>2</td>\n",
       "      <td>365</td>\n",
       "    </tr>\n",
       "  </tbody>\n",
       "</table>\n",
       "</div>"
      ],
      "text/plain": [
       "         name  gender\n",
       "count     730     730\n",
       "unique    365       2\n",
       "top     Addie  female\n",
       "freq        2     365"
      ]
     },
     "execution_count": 26,
     "metadata": {},
     "output_type": "execute_result"
    }
   ],
   "source": [
    "#Check for duplicate names, i.e. names that are in both the male and female datasets\n",
    "duplicates_check = data[['name']]\n",
    "duplicates = duplicates_check[duplicates_check.duplicated()]\n",
    "print(f'There are {len(duplicates)} duplicate names.')\n",
    "print()\n",
    "\n",
    "print('Shown below is a count of 730 names with 365 unique names, so these are all names in both the male and female datasets')\n",
    "print('Since this project is to predict binomial gender classification, these names will be removed')\n",
    "\n",
    "#Create a list of the duplicate names and validate that they are male and female entries\n",
    "duplicates_list = list(duplicates.name)\n",
    "\n",
    "duplicates_df = data[data.name.isin(duplicates_list)]\n",
    "duplicates_df = duplicates_df.sort_values(['name','gender'])\n",
    "duplicates_df.describe()"
   ]
  },
  {
   "cell_type": "code",
   "execution_count": 27,
   "metadata": {},
   "outputs": [
    {
     "name": "stdout",
     "output_type": "stream",
     "text": [
      "Removing duplicate names drops 730 names; total names went from 7944 to 7214\n"
     ]
    }
   ],
   "source": [
    "#Remove the duplicate names\n",
    "data = data[~data.name.isin(duplicates_list)]\n",
    "\n",
    "print(f'Removing duplicate names drops {total_count - len(data)} names; total names went from {total_count} to {len(data)}')"
   ]
  },
  {
   "cell_type": "markdown",
   "metadata": {},
   "source": [
    "### Features"
   ]
  },
  {
   "cell_type": "markdown",
   "metadata": {},
   "source": [
    "The names corpus consists of two text files, one of all male names and one of all female names.  Not much to go on with regard to building a classifier, but here are features that we came up with...\n",
    "\n",
    "1. last letter of name\n",
    "2. first letter of name\n",
    "3. length of name\n",
    "4. has repeating letters in a name"
   ]
  },
  {
   "cell_type": "code",
   "execution_count": 28,
   "metadata": {},
   "outputs": [],
   "source": [
    "#Add last_letter, first_letter, and name_length columns to the dataframe\n",
    "data['last_letter'] = [name[-1] for name in data.name]\n",
    "data['first_letter'] = [name[0] for name in data.name]\n",
    "data['name_length'] = [len(name) for name in data.name]"
   ]
  },
  {
   "cell_type": "code",
   "execution_count": 29,
   "metadata": {},
   "outputs": [
    {
     "data": {
      "text/html": [
       "<div>\n",
       "<style scoped>\n",
       "    .dataframe tbody tr th:only-of-type {\n",
       "        vertical-align: middle;\n",
       "    }\n",
       "\n",
       "    .dataframe tbody tr th {\n",
       "        vertical-align: top;\n",
       "    }\n",
       "\n",
       "    .dataframe thead th {\n",
       "        text-align: right;\n",
       "    }\n",
       "</style>\n",
       "<table border=\"1\" class=\"dataframe\">\n",
       "  <thead>\n",
       "    <tr style=\"text-align: right;\">\n",
       "      <th></th>\n",
       "      <th>name</th>\n",
       "      <th>gender</th>\n",
       "      <th>last_letter</th>\n",
       "      <th>first_letter</th>\n",
       "      <th>name_length</th>\n",
       "      <th>repeat_letters_count</th>\n",
       "    </tr>\n",
       "  </thead>\n",
       "  <tbody>\n",
       "    <tr>\n",
       "      <td>0</td>\n",
       "      <td>Megan</td>\n",
       "      <td>female</td>\n",
       "      <td>n</td>\n",
       "      <td>M</td>\n",
       "      <td>5</td>\n",
       "      <td>0</td>\n",
       "    </tr>\n",
       "    <tr>\n",
       "      <td>2</td>\n",
       "      <td>Bailie</td>\n",
       "      <td>male</td>\n",
       "      <td>e</td>\n",
       "      <td>B</td>\n",
       "      <td>6</td>\n",
       "      <td>1</td>\n",
       "    </tr>\n",
       "    <tr>\n",
       "      <td>3</td>\n",
       "      <td>Hanna</td>\n",
       "      <td>female</td>\n",
       "      <td>a</td>\n",
       "      <td>H</td>\n",
       "      <td>5</td>\n",
       "      <td>1</td>\n",
       "    </tr>\n",
       "    <tr>\n",
       "      <td>4</td>\n",
       "      <td>Antonio</td>\n",
       "      <td>male</td>\n",
       "      <td>o</td>\n",
       "      <td>A</td>\n",
       "      <td>7</td>\n",
       "      <td>1</td>\n",
       "    </tr>\n",
       "    <tr>\n",
       "      <td>5</td>\n",
       "      <td>Valida</td>\n",
       "      <td>female</td>\n",
       "      <td>a</td>\n",
       "      <td>V</td>\n",
       "      <td>6</td>\n",
       "      <td>1</td>\n",
       "    </tr>\n",
       "  </tbody>\n",
       "</table>\n",
       "</div>"
      ],
      "text/plain": [
       "      name  gender last_letter first_letter  name_length  repeat_letters_count\n",
       "0    Megan  female           n            M            5                     0\n",
       "2   Bailie    male           e            B            6                     1\n",
       "3    Hanna  female           a            H            5                     1\n",
       "4  Antonio    male           o            A            7                     1\n",
       "5   Valida  female           a            V            6                     1"
      ]
     },
     "execution_count": 29,
     "metadata": {},
     "output_type": "execute_result"
    }
   ],
   "source": [
    "#Count the max number of repeating letters in a name and add to dataframe\n",
    "letters = 'abcdefghijklmnopqrstuvwxyz'\n",
    "\n",
    "repeat_letters_list = []\n",
    "\n",
    "#loop thru the dataframe\n",
    "for name in data.name:\n",
    "    rl_dict = defaultdict(int)\n",
    "    \n",
    "    #loop thru each character of each name\n",
    "    lname = str(name).lower()\n",
    "    for l in lname:\n",
    "        if l not in rl_dict:\n",
    "            rl_dict[l] = 1\n",
    "        else:\n",
    "            rl_dict[l] += 1\n",
    "    \n",
    "    repeat_letters_list.append(max(rl_dict.values()) - 1)\n",
    "                 \n",
    "data['repeat_letters_count'] = repeat_letters_list\n",
    "data.head()"
   ]
  },
  {
   "cell_type": "code",
   "execution_count": 30,
   "metadata": {},
   "outputs": [
    {
     "data": {
      "text/html": [
       "<div>\n",
       "<style scoped>\n",
       "    .dataframe tbody tr th:only-of-type {\n",
       "        vertical-align: middle;\n",
       "    }\n",
       "\n",
       "    .dataframe tbody tr th {\n",
       "        vertical-align: top;\n",
       "    }\n",
       "\n",
       "    .dataframe thead th {\n",
       "        text-align: right;\n",
       "    }\n",
       "</style>\n",
       "<table border=\"1\" class=\"dataframe\">\n",
       "  <thead>\n",
       "    <tr style=\"text-align: right;\">\n",
       "      <th></th>\n",
       "      <th>last_letter</th>\n",
       "      <th>first_letter</th>\n",
       "      <th>name_length</th>\n",
       "      <th>repeat_letters_count</th>\n",
       "      <th>gender</th>\n",
       "    </tr>\n",
       "  </thead>\n",
       "  <tbody>\n",
       "    <tr>\n",
       "      <td>0</td>\n",
       "      <td>n</td>\n",
       "      <td>M</td>\n",
       "      <td>5</td>\n",
       "      <td>0</td>\n",
       "      <td>female</td>\n",
       "    </tr>\n",
       "    <tr>\n",
       "      <td>2</td>\n",
       "      <td>e</td>\n",
       "      <td>B</td>\n",
       "      <td>6</td>\n",
       "      <td>1</td>\n",
       "      <td>male</td>\n",
       "    </tr>\n",
       "    <tr>\n",
       "      <td>3</td>\n",
       "      <td>a</td>\n",
       "      <td>H</td>\n",
       "      <td>5</td>\n",
       "      <td>1</td>\n",
       "      <td>female</td>\n",
       "    </tr>\n",
       "    <tr>\n",
       "      <td>4</td>\n",
       "      <td>o</td>\n",
       "      <td>A</td>\n",
       "      <td>7</td>\n",
       "      <td>1</td>\n",
       "      <td>male</td>\n",
       "    </tr>\n",
       "    <tr>\n",
       "      <td>5</td>\n",
       "      <td>a</td>\n",
       "      <td>V</td>\n",
       "      <td>6</td>\n",
       "      <td>1</td>\n",
       "      <td>female</td>\n",
       "    </tr>\n",
       "  </tbody>\n",
       "</table>\n",
       "</div>"
      ],
      "text/plain": [
       "  last_letter first_letter  name_length  repeat_letters_count  gender\n",
       "0           n            M            5                     0  female\n",
       "2           e            B            6                     1    male\n",
       "3           a            H            5                     1  female\n",
       "4           o            A            7                     1    male\n",
       "5           a            V            6                     1  female"
      ]
     },
     "execution_count": 30,
     "metadata": {},
     "output_type": "execute_result"
    }
   ],
   "source": [
    "#Format the dataset for modeling\n",
    "model_data = data[['last_letter', 'first_letter', 'name_length', 'repeat_letters_count', 'gender']]\n",
    "model_data.head()"
   ]
  },
  {
   "cell_type": "markdown",
   "metadata": {},
   "source": [
    "### Naive Bayes Model train and devtest"
   ]
  },
  {
   "cell_type": "code",
   "execution_count": 31,
   "metadata": {},
   "outputs": [],
   "source": [
    "#Data for model using only the last letter\n",
    "def create_last_letter_features_list(indata):\n",
    "    features_list = []\n",
    "\n",
    "    for m in indata.values:\n",
    "        feature_dict = {'last_letter': m[0]}\n",
    "        feature_set = (feature_dict, m[4])\n",
    "        features_list.append(feature_set)\n",
    "    \n",
    "    return features_list"
   ]
  },
  {
   "cell_type": "code",
   "execution_count": 32,
   "metadata": {},
   "outputs": [],
   "source": [
    "#Data for model using only the first letter\n",
    "def create_first_letter_features_list(indata):\n",
    "    features_list = []\n",
    "\n",
    "    for m in indata.values:\n",
    "        feature_dict = {'first_letter': m[1]}\n",
    "        feature_set = (feature_dict, m[4])\n",
    "        features_list.append(feature_set)\n",
    "    \n",
    "    return features_list"
   ]
  },
  {
   "cell_type": "code",
   "execution_count": 33,
   "metadata": {},
   "outputs": [],
   "source": [
    "#Data for model using only the name length\n",
    "def create_length_features_list(indata):\n",
    "    features_list = []\n",
    "\n",
    "    for m in indata.values:\n",
    "        feature_dict = {'name_length': m[2]}\n",
    "        feature_set = (feature_dict, m[4])\n",
    "        features_list.append(feature_set)\n",
    "    \n",
    "    return features_list"
   ]
  },
  {
   "cell_type": "code",
   "execution_count": 34,
   "metadata": {},
   "outputs": [],
   "source": [
    "#Data for model using only the repeat letters count\n",
    "def create_repeat_letters_features_list(indata):\n",
    "    features_list = []\n",
    "\n",
    "    for m in indata.values:\n",
    "        feature_dict = {'repeat_letters_count': m[3]}\n",
    "        feature_set = (feature_dict, m[4])\n",
    "        features_list.append(feature_set)\n",
    "    \n",
    "    return features_list"
   ]
  },
  {
   "cell_type": "code",
   "execution_count": 35,
   "metadata": {},
   "outputs": [],
   "source": [
    "#Data for model using all features\n",
    "def create_all_features_list(indata):\n",
    "    features_list = []\n",
    "\n",
    "    for m in indata.values:\n",
    "        feature_dict = {'last_letter': m[0], 'first_letter': m[1], 'name_length': m[2], 'repeat_letters_count': m[3]}\n",
    "        feature_set = (feature_dict, m[4])\n",
    "        features_list.append(feature_set)\n",
    "    \n",
    "    return features_list"
   ]
  },
  {
   "cell_type": "code",
   "execution_count": 36,
   "metadata": {},
   "outputs": [],
   "source": [
    "#Data for model using first and last letter features\n",
    "def create_first_last_features_list(indata):\n",
    "    features_list = []\n",
    "\n",
    "    for m in indata.values:\n",
    "        feature_dict = {'last_letter': m[0], 'first_letter': m[1]}\n",
    "        feature_set = (feature_dict, m[4])\n",
    "        features_list.append(feature_set)\n",
    "    \n",
    "    return features_list"
   ]
  },
  {
   "cell_type": "code",
   "execution_count": 37,
   "metadata": {},
   "outputs": [],
   "source": [
    "#Run the model and return the accuracy score\n",
    "def run_model(in_features_list):\n",
    "    train_data = in_features_list[:6214]\n",
    "    devtest_data = in_features_list[6214:6714]\n",
    "\n",
    "    nb_classifier = NaiveBayesClassifier.train(train_data)\n",
    "\n",
    "    model_accuracy = classify.accuracy(nb_classifier, devtest_data)\n",
    "    \n",
    "    return [model_accuracy, nb_classifier]"
   ]
  },
  {
   "cell_type": "markdown",
   "metadata": {},
   "source": [
    "There are six feature combinations that are tried below:\n",
    "1. Last letter only\n",
    "2. First letter only\n",
    "3. Name length only\n",
    "4. Repeating letters only\n",
    "5. First, last letters\n",
    "6. All features\n",
    "\n",
    "Using the six feature combinations, bootstrap with the naive bayes model to identify the overall best feature combination "
   ]
  },
  {
   "cell_type": "code",
   "execution_count": 38,
   "metadata": {},
   "outputs": [
    {
     "name": "stdout",
     "output_type": "stream",
     "text": [
      "RESULTS\n",
      "-------\n",
      "Last letter accuracy is 79%\n",
      "First letter accuracy is 66%\n",
      "Name length accuracy is 65%\n",
      "Repeat letters count accuracy is 64%\n",
      "First, last features average accuracy is 80%\n",
      "All features average accuracy is 81%\n"
     ]
    }
   ],
   "source": [
    "last_letter_results = []\n",
    "first_letter_results = []\n",
    "name_length_results = []\n",
    "repeat_letters_results = []\n",
    "first_last_letters_results = []\n",
    "all_features_results = []\n",
    "\n",
    "#Bootstrap 100 times\n",
    "bootstrap_data = model_data.iloc[:7214,:]\n",
    "\n",
    "for r in range(1,101):\n",
    "    #Shuffle\n",
    "    indata = bootstrap_data.sample(frac=1).reset_index(drop=True)\n",
    "    \n",
    "    #1 Last letter\n",
    "    features_list = create_last_letter_features_list(indata)\n",
    "    accuracy = run_model(features_list)\n",
    "    last_letter_results.append(accuracy[0])\n",
    "\n",
    "    #2 First letter\n",
    "    features_list = create_first_letter_features_list(indata)\n",
    "    accuracy = run_model(features_list)\n",
    "    first_letter_results.append(accuracy[0])\n",
    "    \n",
    "    #3 Name length\n",
    "    features_list = create_length_features_list(indata)\n",
    "    accuracy = run_model(features_list)\n",
    "    name_length_results.append(accuracy[0])\n",
    "\n",
    "    #4 Repeating letters count\n",
    "    features_list = create_repeat_letters_features_list(indata)\n",
    "    accuracy = run_model(features_list)\n",
    "    repeat_letters_results.append(accuracy[0])\n",
    "\n",
    "    #5 first and last letters features\n",
    "    features_list = create_first_last_features_list(indata)\n",
    "    accuracy = run_model(features_list)\n",
    "    first_last_letters_results.append(accuracy[0])    \n",
    "    \n",
    "    #6 All features\n",
    "    features_list = create_all_features_list(indata)\n",
    "    accuracy = run_model(features_list)\n",
    "    all_features_results.append(accuracy[0])\n",
    "\n",
    "print('RESULTS')\n",
    "print('-------')\n",
    "\n",
    "last_letter_avg = sum(last_letter_results)/len(last_letter_results)\n",
    "print(f'Last letter accuracy is {round(last_letter_avg * 100)}%')\n",
    "\n",
    "first_letter_avg = sum(first_letter_results)/len(first_letter_results)\n",
    "print(f'First letter accuracy is {round(first_letter_avg * 100)}%')\n",
    "\n",
    "name_length_avg = sum(name_length_results)/len(name_length_results)\n",
    "print(f'Name length accuracy is {round(name_length_avg * 100)}%')\n",
    "\n",
    "repeat_letters_avg = sum(repeat_letters_results)/len(repeat_letters_results)\n",
    "print(f'Repeat letters count accuracy is {round(repeat_letters_avg * 100)}%')\n",
    "\n",
    "first_last_features_avg = sum(first_last_letters_results)/len(first_last_letters_results)\n",
    "print(f'First, last features average accuracy is {round(first_last_features_avg * 100)}%')\n",
    "\n",
    "all_features_avg = sum(all_features_results)/len(all_features_results)\n",
    "print(f'All features average accuracy is {round(all_features_avg * 100)}%')"
   ]
  },
  {
   "cell_type": "markdown",
   "metadata": {},
   "source": [
    "### Naive Bayes model test data"
   ]
  },
  {
   "cell_type": "markdown",
   "metadata": {},
   "source": [
    "The devtest dataset results identified that using all the features is the best dataset for the model.  Now we'll run the test dataset using all features."
   ]
  },
  {
   "cell_type": "code",
   "execution_count": 39,
   "metadata": {},
   "outputs": [
    {
     "name": "stdout",
     "output_type": "stream",
     "text": [
      "All features accuracy using test data is 82%\n"
     ]
    }
   ],
   "source": [
    "test_data = model_data.iloc[6714:,:]\n",
    "\n",
    "features_list = create_all_features_list(test_data)\n",
    "\n",
    "nb_classifier = accuracy[1]\n",
    "\n",
    "model_accuracy = classify.accuracy(nb_classifier, features_list)\n",
    "\n",
    "print(f'All features accuracy using test data is {round(model_accuracy * 100)}%')"
   ]
  },
  {
   "cell_type": "markdown",
   "metadata": {},
   "source": [
    "### Conclusion"
   ]
  },
  {
   "cell_type": "markdown",
   "metadata": {},
   "source": [
    "<I>How does the performance on the test set compare to the performance on the dev-test set? </I> <br> The devtest result for the model as an average of the bootstrapping (100 runs) was 81% and the test data average was 82%.  \n",
    "<br>\n",
    "<I>Is this what you'd expect?</I> <br> Yes, it's reasonable to expect a variance of several percentage points between a devtest and test dataset. "
   ]
  },
  {
   "cell_type": "markdown",
   "metadata": {},
   "source": [
    "### Footnotes"
   ]
  },
  {
   "cell_type": "markdown",
   "metadata": {},
   "source": [
    "This github titled, [\"Classifier to determine the gender of a name using NLTK library\"](https://gist.github.com/vinovator/6e5bf1e1bc61687a1e809780c30d6bf6#file-nltk_name_classifier-py-L66) was helpful towards understanding NLTK's Naive Bayes Classifier."
   ]
  }
 ],
 "metadata": {
  "kernelspec": {
   "display_name": "Python 3",
   "language": "python",
   "name": "python3"
  },
  "language_info": {
   "codemirror_mode": {
    "name": "ipython",
    "version": 3
   },
   "file_extension": ".py",
   "mimetype": "text/x-python",
   "name": "python",
   "nbconvert_exporter": "python",
   "pygments_lexer": "ipython3",
   "version": "3.7.4"
  },
  "toc": {
   "base_numbering": 1,
   "nav_menu": {},
   "number_sections": true,
   "sideBar": true,
   "skip_h1_title": false,
   "title_cell": "Table of Contents",
   "title_sidebar": "Contents",
   "toc_cell": true,
   "toc_position": {},
   "toc_section_display": true,
   "toc_window_display": false
  }
 },
 "nbformat": 4,
 "nbformat_minor": 2
}
